{
 "cells": [
  {
   "cell_type": "markdown",
   "metadata": {},
   "source": [
    "# Домашнее задание к лекции \"Базовые понятия статистики\""
   ]
  },
  {
   "cell_type": "markdown",
   "metadata": {},
   "source": [
    "## Обязательная часть\n",
    "\n",
    "Будем осуществлять работу с непростым [набором данных](https://raw.githubusercontent.com/obulygin/pyda_homeworks/master/statistics_basics/horse_data.csv) о состоянии здоровья лошадей, испытывающих кишечные колики. \n",
    "\n",
    "\n",
    "\n"
   ]
  },
  {
   "cell_type": "code",
   "execution_count": 1,
   "metadata": {},
   "outputs": [
    {
     "data": {
      "text/html": [
       "<div>\n",
       "<style scoped>\n",
       "    .dataframe tbody tr th:only-of-type {\n",
       "        vertical-align: middle;\n",
       "    }\n",
       "\n",
       "    .dataframe tbody tr th {\n",
       "        vertical-align: top;\n",
       "    }\n",
       "\n",
       "    .dataframe thead th {\n",
       "        text-align: right;\n",
       "    }\n",
       "</style>\n",
       "<table border=\"1\" class=\"dataframe\">\n",
       "  <thead>\n",
       "    <tr style=\"text-align: right;\">\n",
       "      <th></th>\n",
       "      <th>surgery</th>\n",
       "      <th>age</th>\n",
       "      <th>Hospital Number</th>\n",
       "      <th>rectal temperature</th>\n",
       "      <th>pulse</th>\n",
       "      <th>respiratory rate</th>\n",
       "      <th>temperature of extremities</th>\n",
       "      <th>peripheral pulse</th>\n",
       "      <th>mucous membranes</th>\n",
       "      <th>capillary refill time</th>\n",
       "      <th>...</th>\n",
       "      <th>packed cell volume</th>\n",
       "      <th>total protein</th>\n",
       "      <th>abdominocentesis appearance</th>\n",
       "      <th>abdomcentesis total protein</th>\n",
       "      <th>outcome</th>\n",
       "      <th>surgical lesion</th>\n",
       "      <th>site of lesion</th>\n",
       "      <th>type</th>\n",
       "      <th>subtype</th>\n",
       "      <th>specific code</th>\n",
       "    </tr>\n",
       "  </thead>\n",
       "  <tbody>\n",
       "    <tr>\n",
       "      <th>0</th>\n",
       "      <td>2</td>\n",
       "      <td>1</td>\n",
       "      <td>530101</td>\n",
       "      <td>38.50</td>\n",
       "      <td>66</td>\n",
       "      <td>28</td>\n",
       "      <td>3</td>\n",
       "      <td>3</td>\n",
       "      <td>?</td>\n",
       "      <td>2</td>\n",
       "      <td>...</td>\n",
       "      <td>45.00</td>\n",
       "      <td>8.40</td>\n",
       "      <td>?</td>\n",
       "      <td>?</td>\n",
       "      <td>2</td>\n",
       "      <td>2</td>\n",
       "      <td>11300</td>\n",
       "      <td>0</td>\n",
       "      <td>0</td>\n",
       "      <td>2</td>\n",
       "    </tr>\n",
       "    <tr>\n",
       "      <th>1</th>\n",
       "      <td>1</td>\n",
       "      <td>1</td>\n",
       "      <td>534817</td>\n",
       "      <td>39.2</td>\n",
       "      <td>88</td>\n",
       "      <td>20</td>\n",
       "      <td>?</td>\n",
       "      <td>?</td>\n",
       "      <td>4</td>\n",
       "      <td>1</td>\n",
       "      <td>...</td>\n",
       "      <td>50</td>\n",
       "      <td>85</td>\n",
       "      <td>2</td>\n",
       "      <td>2</td>\n",
       "      <td>3</td>\n",
       "      <td>2</td>\n",
       "      <td>2208</td>\n",
       "      <td>0</td>\n",
       "      <td>0</td>\n",
       "      <td>2</td>\n",
       "    </tr>\n",
       "    <tr>\n",
       "      <th>2</th>\n",
       "      <td>2</td>\n",
       "      <td>1</td>\n",
       "      <td>530334</td>\n",
       "      <td>38.30</td>\n",
       "      <td>40</td>\n",
       "      <td>24</td>\n",
       "      <td>1</td>\n",
       "      <td>1</td>\n",
       "      <td>3</td>\n",
       "      <td>1</td>\n",
       "      <td>...</td>\n",
       "      <td>33.00</td>\n",
       "      <td>6.70</td>\n",
       "      <td>?</td>\n",
       "      <td>?</td>\n",
       "      <td>1</td>\n",
       "      <td>2</td>\n",
       "      <td>0</td>\n",
       "      <td>0</td>\n",
       "      <td>0</td>\n",
       "      <td>1</td>\n",
       "    </tr>\n",
       "    <tr>\n",
       "      <th>3</th>\n",
       "      <td>1</td>\n",
       "      <td>9</td>\n",
       "      <td>5290409</td>\n",
       "      <td>39.10</td>\n",
       "      <td>164</td>\n",
       "      <td>84</td>\n",
       "      <td>4</td>\n",
       "      <td>1</td>\n",
       "      <td>6</td>\n",
       "      <td>2</td>\n",
       "      <td>...</td>\n",
       "      <td>48.00</td>\n",
       "      <td>7.20</td>\n",
       "      <td>3</td>\n",
       "      <td>5.30</td>\n",
       "      <td>2</td>\n",
       "      <td>1</td>\n",
       "      <td>2208</td>\n",
       "      <td>0</td>\n",
       "      <td>0</td>\n",
       "      <td>1</td>\n",
       "    </tr>\n",
       "    <tr>\n",
       "      <th>4</th>\n",
       "      <td>2</td>\n",
       "      <td>1</td>\n",
       "      <td>530255</td>\n",
       "      <td>37.30</td>\n",
       "      <td>104</td>\n",
       "      <td>35</td>\n",
       "      <td>?</td>\n",
       "      <td>?</td>\n",
       "      <td>6</td>\n",
       "      <td>2</td>\n",
       "      <td>...</td>\n",
       "      <td>74.00</td>\n",
       "      <td>7.40</td>\n",
       "      <td>?</td>\n",
       "      <td>?</td>\n",
       "      <td>2</td>\n",
       "      <td>2</td>\n",
       "      <td>4300</td>\n",
       "      <td>0</td>\n",
       "      <td>0</td>\n",
       "      <td>2</td>\n",
       "    </tr>\n",
       "  </tbody>\n",
       "</table>\n",
       "<p>5 rows × 28 columns</p>\n",
       "</div>"
      ],
      "text/plain": [
       "  surgery  age  Hospital Number rectal temperature pulse respiratory rate  \\\n",
       "0       2    1           530101              38.50    66               28   \n",
       "1       1    1           534817               39.2    88               20   \n",
       "2       2    1           530334              38.30    40               24   \n",
       "3       1    9          5290409              39.10   164               84   \n",
       "4       2    1           530255              37.30   104               35   \n",
       "\n",
       "  temperature of extremities peripheral pulse mucous membranes  \\\n",
       "0                          3                3                ?   \n",
       "1                          ?                ?                4   \n",
       "2                          1                1                3   \n",
       "3                          4                1                6   \n",
       "4                          ?                ?                6   \n",
       "\n",
       "  capillary refill time  ... packed cell volume total protein  \\\n",
       "0                     2  ...              45.00          8.40   \n",
       "1                     1  ...                 50            85   \n",
       "2                     1  ...              33.00          6.70   \n",
       "3                     2  ...              48.00          7.20   \n",
       "4                     2  ...              74.00          7.40   \n",
       "\n",
       "  abdominocentesis appearance abdomcentesis total protein outcome  \\\n",
       "0                           ?                           ?       2   \n",
       "1                           2                           2       3   \n",
       "2                           ?                           ?       1   \n",
       "3                           3                        5.30       2   \n",
       "4                           ?                           ?       2   \n",
       "\n",
       "  surgical lesion site of lesion type subtype specific code  \n",
       "0               2          11300    0       0             2  \n",
       "1               2           2208    0       0             2  \n",
       "2               2              0    0       0             1  \n",
       "3               1           2208    0       0             1  \n",
       "4               2           4300    0       0             2  \n",
       "\n",
       "[5 rows x 28 columns]"
      ]
     },
     "execution_count": 1,
     "metadata": {},
     "output_type": "execute_result"
    }
   ],
   "source": [
    "import pandas as pd\n",
    "import numpy as np\n",
    "import matplotlib.pyplot as plt\n",
    "pd.options.mode.chained_assignment = None\n",
    "\n",
    "url=\"https://raw.githubusercontent.com/obulygin/pyda_homeworks/master/statistics_basics/horse_data.csv\"\n",
    "data=pd.read_csv(url, names=['surgery','age','Hospital Number','rectal temperature','pulse',\\\n",
    "                             'respiratory rate','temperature of extremities','peripheral pulse',\\\n",
    "                             'mucous membranes','capillary refill time','pain level','peristalsis',\\\n",
    "                             'abdominal distension','nasogastric tube','nasogastric reflux',\\\n",
    "                             'nasogastric reflux PH','rectal examination - feces','abdomen','packed cell volume',\\\n",
    "                             'total protein','abdominocentesis appearance','abdomcentesis total protein',\\\n",
    "                             'outcome','surgical lesion','site of lesion','type','subtype','specific code'])\n",
    "data.head()"
   ]
  },
  {
   "cell_type": "markdown",
   "metadata": {},
   "source": [
    "### Задание 1. Базовое изучение\n",
    "\n",
    "Изучить представленный набор данных на основе [описания его столбцов](https://raw.githubusercontent.com/obulygin/pyda_homeworks/master/statistics_basics/horse_data.names) и выбрать 8 столбцов для дальнейшего изучения (среди них должны быть как числовые, так и категориальные). Провести расчет базовых метрик для них, кратко описать результаты."
   ]
  },
  {
   "cell_type": "markdown",
   "metadata": {},
   "source": [
    "> Возьмем в работу столбцы: \"операция\", \"возраст\", \"ректальная температура\", \"пульс\", \"частота дыхания\", \"температура конечностей\", \"уровень боли\", \"результат\"<br>\n",
    "\n",
    "> Также в поле age присутствует ошибка, т.к. возможны 2 значения: 1 и 2, а здесь мы видим 1 и 9"
   ]
  },
  {
   "cell_type": "code",
   "execution_count": 2,
   "metadata": {},
   "outputs": [
    {
     "data": {
      "text/html": [
       "<div>\n",
       "<style scoped>\n",
       "    .dataframe tbody tr th:only-of-type {\n",
       "        vertical-align: middle;\n",
       "    }\n",
       "\n",
       "    .dataframe tbody tr th {\n",
       "        vertical-align: top;\n",
       "    }\n",
       "\n",
       "    .dataframe thead th {\n",
       "        text-align: right;\n",
       "    }\n",
       "</style>\n",
       "<table border=\"1\" class=\"dataframe\">\n",
       "  <thead>\n",
       "    <tr style=\"text-align: right;\">\n",
       "      <th></th>\n",
       "      <th>surgery</th>\n",
       "      <th>age</th>\n",
       "      <th>rectal temperature</th>\n",
       "      <th>pulse</th>\n",
       "      <th>respiratory rate</th>\n",
       "      <th>temperature of extremities</th>\n",
       "      <th>pain level</th>\n",
       "      <th>outcome</th>\n",
       "    </tr>\n",
       "  </thead>\n",
       "  <tbody>\n",
       "    <tr>\n",
       "      <th>0</th>\n",
       "      <td>2</td>\n",
       "      <td>1</td>\n",
       "      <td>38.50</td>\n",
       "      <td>66</td>\n",
       "      <td>28</td>\n",
       "      <td>3</td>\n",
       "      <td>5</td>\n",
       "      <td>2</td>\n",
       "    </tr>\n",
       "    <tr>\n",
       "      <th>1</th>\n",
       "      <td>1</td>\n",
       "      <td>1</td>\n",
       "      <td>39.2</td>\n",
       "      <td>88</td>\n",
       "      <td>20</td>\n",
       "      <td>NaN</td>\n",
       "      <td>3</td>\n",
       "      <td>3</td>\n",
       "    </tr>\n",
       "    <tr>\n",
       "      <th>2</th>\n",
       "      <td>2</td>\n",
       "      <td>1</td>\n",
       "      <td>38.30</td>\n",
       "      <td>40</td>\n",
       "      <td>24</td>\n",
       "      <td>1</td>\n",
       "      <td>3</td>\n",
       "      <td>1</td>\n",
       "    </tr>\n",
       "    <tr>\n",
       "      <th>3</th>\n",
       "      <td>1</td>\n",
       "      <td>2</td>\n",
       "      <td>39.10</td>\n",
       "      <td>164</td>\n",
       "      <td>84</td>\n",
       "      <td>4</td>\n",
       "      <td>2</td>\n",
       "      <td>2</td>\n",
       "    </tr>\n",
       "    <tr>\n",
       "      <th>4</th>\n",
       "      <td>2</td>\n",
       "      <td>1</td>\n",
       "      <td>37.30</td>\n",
       "      <td>104</td>\n",
       "      <td>35</td>\n",
       "      <td>NaN</td>\n",
       "      <td>NaN</td>\n",
       "      <td>2</td>\n",
       "    </tr>\n",
       "  </tbody>\n",
       "</table>\n",
       "</div>"
      ],
      "text/plain": [
       "  surgery  age rectal temperature pulse respiratory rate  \\\n",
       "0       2    1              38.50    66               28   \n",
       "1       1    1               39.2    88               20   \n",
       "2       2    1              38.30    40               24   \n",
       "3       1    2              39.10   164               84   \n",
       "4       2    1              37.30   104               35   \n",
       "\n",
       "  temperature of extremities pain level outcome  \n",
       "0                          3          5       2  \n",
       "1                        NaN          3       3  \n",
       "2                          1          3       1  \n",
       "3                          4          2       2  \n",
       "4                        NaN        NaN       2  "
      ]
     },
     "execution_count": 2,
     "metadata": {},
     "output_type": "execute_result"
    }
   ],
   "source": [
    "values = ['surgery', 'age', 'rectal temperature', 'pulse', 'respiratory rate', 'temperature of extremities',\\\n",
    "           'pain level', 'outcome']\n",
    "\n",
    "data = data[values].replace({'?': np.nan}) # Убираем некорректные символы\n",
    "\n",
    "data['age'] = data['age'].replace({9: 2}) # заменим 9 на 2\n",
    "\n",
    "data.head()"
   ]
  },
  {
   "cell_type": "code",
   "execution_count": 3,
   "metadata": {},
   "outputs": [
    {
     "name": "stdout",
     "output_type": "stream",
     "text": [
      "<class 'pandas.core.frame.DataFrame'>\n",
      "RangeIndex: 300 entries, 0 to 299\n",
      "Data columns (total 8 columns):\n",
      " #   Column                      Non-Null Count  Dtype  \n",
      "---  ------                      --------------  -----  \n",
      " 0   surgery                     299 non-null    float64\n",
      " 1   age                         300 non-null    int64  \n",
      " 2   rectal temperature          240 non-null    float64\n",
      " 3   pulse                       276 non-null    float64\n",
      " 4   respiratory rate            242 non-null    float64\n",
      " 5   temperature of extremities  244 non-null    float64\n",
      " 6   pain level                  245 non-null    float64\n",
      " 7   outcome                     299 non-null    float64\n",
      "dtypes: float64(7), int64(1)\n",
      "memory usage: 18.9 KB\n"
     ]
    }
   ],
   "source": [
    "# Приведем все данные к нужным нам форматам\n",
    "\n",
    "for x in data.columns:\n",
    "    data[x] = pd.to_numeric(data[x])\n",
    "data.info()"
   ]
  },
  {
   "cell_type": "code",
   "execution_count": 4,
   "metadata": {},
   "outputs": [
    {
     "data": {
      "text/html": [
       "<div>\n",
       "<style scoped>\n",
       "    .dataframe tbody tr th:only-of-type {\n",
       "        vertical-align: middle;\n",
       "    }\n",
       "\n",
       "    .dataframe tbody tr th {\n",
       "        vertical-align: top;\n",
       "    }\n",
       "\n",
       "    .dataframe thead th {\n",
       "        text-align: right;\n",
       "    }\n",
       "</style>\n",
       "<table border=\"1\" class=\"dataframe\">\n",
       "  <thead>\n",
       "    <tr style=\"text-align: right;\">\n",
       "      <th></th>\n",
       "      <th>Параметр</th>\n",
       "      <th>Среднее</th>\n",
       "      <th>Медиана</th>\n",
       "      <th>Мода</th>\n",
       "      <th>Минимум</th>\n",
       "      <th>Максимум</th>\n",
       "      <th>Сред.отклонение</th>\n",
       "      <th>Размах</th>\n",
       "    </tr>\n",
       "  </thead>\n",
       "  <tbody>\n",
       "    <tr>\n",
       "      <th>0</th>\n",
       "      <td>surgery</td>\n",
       "      <td>1.398</td>\n",
       "      <td>1.0</td>\n",
       "      <td>1.0</td>\n",
       "      <td>1.0</td>\n",
       "      <td>2.0</td>\n",
       "      <td>0.490</td>\n",
       "      <td>1.0</td>\n",
       "    </tr>\n",
       "    <tr>\n",
       "      <th>1</th>\n",
       "      <td>age</td>\n",
       "      <td>1.080</td>\n",
       "      <td>1.0</td>\n",
       "      <td>1.0</td>\n",
       "      <td>1.0</td>\n",
       "      <td>2.0</td>\n",
       "      <td>0.272</td>\n",
       "      <td>1.0</td>\n",
       "    </tr>\n",
       "    <tr>\n",
       "      <th>2</th>\n",
       "      <td>rectal temperature</td>\n",
       "      <td>38.168</td>\n",
       "      <td>38.2</td>\n",
       "      <td>38.0</td>\n",
       "      <td>35.4</td>\n",
       "      <td>40.8</td>\n",
       "      <td>0.732</td>\n",
       "      <td>5.4</td>\n",
       "    </tr>\n",
       "    <tr>\n",
       "      <th>3</th>\n",
       "      <td>pulse</td>\n",
       "      <td>71.913</td>\n",
       "      <td>64.0</td>\n",
       "      <td>48.0</td>\n",
       "      <td>30.0</td>\n",
       "      <td>184.0</td>\n",
       "      <td>28.631</td>\n",
       "      <td>154.0</td>\n",
       "    </tr>\n",
       "    <tr>\n",
       "      <th>4</th>\n",
       "      <td>respiratory rate</td>\n",
       "      <td>30.417</td>\n",
       "      <td>24.5</td>\n",
       "      <td>20.0</td>\n",
       "      <td>8.0</td>\n",
       "      <td>96.0</td>\n",
       "      <td>17.642</td>\n",
       "      <td>88.0</td>\n",
       "    </tr>\n",
       "    <tr>\n",
       "      <th>5</th>\n",
       "      <td>temperature of extremities</td>\n",
       "      <td>2.348</td>\n",
       "      <td>3.0</td>\n",
       "      <td>3.0</td>\n",
       "      <td>1.0</td>\n",
       "      <td>4.0</td>\n",
       "      <td>1.045</td>\n",
       "      <td>3.0</td>\n",
       "    </tr>\n",
       "    <tr>\n",
       "      <th>6</th>\n",
       "      <td>pain level</td>\n",
       "      <td>2.951</td>\n",
       "      <td>3.0</td>\n",
       "      <td>3.0</td>\n",
       "      <td>1.0</td>\n",
       "      <td>5.0</td>\n",
       "      <td>1.308</td>\n",
       "      <td>4.0</td>\n",
       "    </tr>\n",
       "    <tr>\n",
       "      <th>7</th>\n",
       "      <td>outcome</td>\n",
       "      <td>1.552</td>\n",
       "      <td>1.0</td>\n",
       "      <td>1.0</td>\n",
       "      <td>1.0</td>\n",
       "      <td>3.0</td>\n",
       "      <td>0.737</td>\n",
       "      <td>2.0</td>\n",
       "    </tr>\n",
       "  </tbody>\n",
       "</table>\n",
       "</div>"
      ],
      "text/plain": [
       "                     Параметр  Среднее  Медиана  Мода  Минимум  Максимум  \\\n",
       "0                     surgery    1.398      1.0   1.0      1.0       2.0   \n",
       "1                         age    1.080      1.0   1.0      1.0       2.0   \n",
       "2          rectal temperature   38.168     38.2  38.0     35.4      40.8   \n",
       "3                       pulse   71.913     64.0  48.0     30.0     184.0   \n",
       "4            respiratory rate   30.417     24.5  20.0      8.0      96.0   \n",
       "5  temperature of extremities    2.348      3.0   3.0      1.0       4.0   \n",
       "6                  pain level    2.951      3.0   3.0      1.0       5.0   \n",
       "7                     outcome    1.552      1.0   1.0      1.0       3.0   \n",
       "\n",
       "   Сред.отклонение  Размах  \n",
       "0            0.490     1.0  \n",
       "1            0.272     1.0  \n",
       "2            0.732     5.4  \n",
       "3           28.631   154.0  \n",
       "4           17.642    88.0  \n",
       "5            1.045     3.0  \n",
       "6            1.308     4.0  \n",
       "7            0.737     2.0  "
      ]
     },
     "execution_count": 4,
     "metadata": {},
     "output_type": "execute_result"
    }
   ],
   "source": [
    "# Проведем расчеты базовых метрик\n",
    "\n",
    "out = pd.DataFrame({'Параметр': values})\n",
    "\n",
    "out.insert(1, \"Среднее\", data.apply(lambda x: round(x.mean(), 3)).values)\n",
    "out.insert(2, \"Медиана\", data.apply(lambda x: round(x.median(), 3)).values)\n",
    "out.insert(3, \"Мода\", data.apply(lambda x: round(x.mode()[0], 3)).values)\n",
    "out.insert(4, \"Минимум\", data.apply(lambda x: round(min(x), 3)).values)\n",
    "out.insert(5, \"Максимум\", data.apply(lambda x: round(max(x), 3)).values)\n",
    "out.insert(6, \"Сред.отклонение\", data.apply(lambda x: round(x.std(), 3)).values)\n",
    "out.insert(7, \"Размах\", data.apply(lambda x: round(max(x)-min(x), 3)).values)\n",
    "\n",
    "out"
   ]
  },
  {
   "cell_type": "markdown",
   "metadata": {},
   "source": [
    "> #### Как можно увидеть в части полей есть незаполненные поля, что не дает корректно сосчитать все базовые метрики.\n",
    "Из полученного результата можно сделать следующие выводы:\n",
    "- Большенству лошадей операцию не делали\n",
    "- Большенство лошадей старше 6 месяцев\n",
    "- Большинство лошадей имеет температуру 38 градусов, хотя нормальная считается чуть меньше - 37,8\n",
    "- При том, что нормальный пульс у лошадей 30-40 уд/мин, то по этим данным пульс у большинства лошадей = 48 уд/мин.  Также наблюдается очень большая разница в частоте пульса - от 30 до 184, что значительно влияет на медиану и среднее значение. \n",
    "- Частота дыхания, также как и пульс имеет достаточно большой размах при том, что наиболее часто равно 20, норма - от 8 до 10\n",
    "- Температура конечностей чаще всего = 3, т.е. прохладная\n",
    "- Уровень боли чаще всего = 3,  т.е. периодическая, легкая боль\n",
    "- Результат большенства обследуемх лошадей = 1, т.е. они живы"
   ]
  },
  {
   "cell_type": "markdown",
   "metadata": {},
   "source": [
    "### Задание 2. Работа с выбросами\n",
    "\n",
    "В выбранных числовых столбцах найти выбросы, выдвинуть гипотезы об их причинах и проинтерпретировать результаты. Принять и обосновать решение о дальнейшей работе с ними.\n"
   ]
  },
  {
   "cell_type": "code",
   "execution_count": 5,
   "metadata": {},
   "outputs": [
    {
     "data": {
      "text/html": [
       "<div>\n",
       "<style scoped>\n",
       "    .dataframe tbody tr th:only-of-type {\n",
       "        vertical-align: middle;\n",
       "    }\n",
       "\n",
       "    .dataframe tbody tr th {\n",
       "        vertical-align: top;\n",
       "    }\n",
       "\n",
       "    .dataframe thead th {\n",
       "        text-align: right;\n",
       "    }\n",
       "</style>\n",
       "<table border=\"1\" class=\"dataframe\">\n",
       "  <thead>\n",
       "    <tr style=\"text-align: right;\">\n",
       "      <th></th>\n",
       "      <th>Параметр</th>\n",
       "      <th>Выбросы</th>\n",
       "    </tr>\n",
       "  </thead>\n",
       "  <tbody>\n",
       "    <tr>\n",
       "      <th>0</th>\n",
       "      <td>surgery</td>\n",
       "      <td>1</td>\n",
       "    </tr>\n",
       "    <tr>\n",
       "      <th>1</th>\n",
       "      <td>age</td>\n",
       "      <td>24</td>\n",
       "    </tr>\n",
       "    <tr>\n",
       "      <th>2</th>\n",
       "      <td>rectal temperature</td>\n",
       "      <td>74</td>\n",
       "    </tr>\n",
       "    <tr>\n",
       "      <th>3</th>\n",
       "      <td>pulse</td>\n",
       "      <td>29</td>\n",
       "    </tr>\n",
       "    <tr>\n",
       "      <th>4</th>\n",
       "      <td>respiratory rate</td>\n",
       "      <td>75</td>\n",
       "    </tr>\n",
       "    <tr>\n",
       "      <th>5</th>\n",
       "      <td>temperature of extremities</td>\n",
       "      <td>56</td>\n",
       "    </tr>\n",
       "    <tr>\n",
       "      <th>6</th>\n",
       "      <td>pain level</td>\n",
       "      <td>55</td>\n",
       "    </tr>\n",
       "    <tr>\n",
       "      <th>7</th>\n",
       "      <td>outcome</td>\n",
       "      <td>1</td>\n",
       "    </tr>\n",
       "  </tbody>\n",
       "</table>\n",
       "</div>"
      ],
      "text/plain": [
       "                     Параметр  Выбросы\n",
       "0                     surgery        1\n",
       "1                         age       24\n",
       "2          rectal temperature       74\n",
       "3                       pulse       29\n",
       "4            respiratory rate       75\n",
       "5  temperature of extremities       56\n",
       "6                  pain level       55\n",
       "7                     outcome        1"
      ]
     },
     "execution_count": 5,
     "metadata": {},
     "output_type": "execute_result"
    }
   ],
   "source": [
    "# Расчитаем нижнюю и верхнюю границу межквартильного размаха и вернем кол-во значений попадающих в них\n",
    "\n",
    "def quart(x):\n",
    "    q1 = x.quantile(0.25)\n",
    "    q3 = x.quantile(0.75)\n",
    "    iqr = q3 - q1\n",
    "    lower = q1 - (1.5 * iqr) \n",
    "    higher = q3 + (1.5 * iqr)\n",
    "    outliers = data[~x.between(lower, higher)]\n",
    "    return len(outliers)\n",
    "\n",
    "out2 = pd.DataFrame({'Параметр': values})\n",
    "out2.insert(1, \"Выбросы\", data.apply(quart).values)\n",
    "out2"
   ]
  },
  {
   "cell_type": "code",
   "execution_count": 6,
   "metadata": {},
   "outputs": [
    {
     "data": {
      "image/png": "[encoded data removed]",
      "text/plain": [
       "<Figure size 432x288 with 1 Axes>"
      ]
     },
     "metadata": {
      "needs_background": "light"
     },
     "output_type": "display_data"
    },
    {
     "data": {
      "image/png": "[encoded data removed]",
      "text/plain": [
       "<Figure size 432x288 with 1 Axes>"
      ]
     },
     "metadata": {
      "needs_background": "light"
     },
     "output_type": "display_data"
    },
    {
     "data": {
      "image/png": "[encoded data removed]",
      "text/plain": [
       "<Figure size 432x288 with 1 Axes>"
      ]
     },
     "metadata": {
      "needs_background": "light"
     },
     "output_type": "display_data"
    },
    {
     "data": {
      "image/png": "[encoded data removed]",
      "text/plain": [
       "<Figure size 432x288 with 1 Axes>"
      ]
     },
     "metadata": {
      "needs_background": "light"
     },
     "output_type": "display_data"
    },
    {
     "data": {
      "image/png": "[encoded data removed]",
      "text/plain": [
       "<Figure size 432x288 with 1 Axes>"
      ]
     },
     "metadata": {
      "needs_background": "light"
     },
     "output_type": "display_data"
    },
    {
     "data": {
      "image/png": "[encoded data removed]",
      "text/plain": [
       "<Figure size 432x288 with 1 Axes>"
      ]
     },
     "metadata": {
      "needs_background": "light"
     },
     "output_type": "display_data"
    },
    {
     "data": {
      "image/png": "[encoded data removed]",
      "text/plain": [
       "<Figure size 432x288 with 1 Axes>"
      ]
     },
     "metadata": {
      "needs_background": "light"
     },
     "output_type": "display_data"
    },
    {
     "data": {
      "image/png": "[encoded data removed]",
      "text/plain": [
       "<Figure size 432x288 with 1 Axes>"
      ]
     },
     "metadata": {
      "needs_background": "light"
     },
     "output_type": "display_data"
    }
   ],
   "source": [
    "# Построим график boxplot для каждого параметра, чтобы визуально увидеть выбросы\n",
    "\n",
    "for x in data.columns:\n",
    "    data[x].plot(kind='box')\n",
    "    plt.grid()\n",
    "    plt.show()"
   ]
  },
  {
   "cell_type": "markdown",
   "metadata": {},
   "source": [
    "> Если сравнить данные таблицы и визуальные данные на графиках, то нет выбросов у surgery, temperature of extremities,\n",
    " pain level, outcome, что наводит на мысль, что выбросы могут быть посчитаны некорректно. Повторим поиск выбросов, \n",
    " но только сейчас выведим их сами на экран, например для параметра 'pain level':"
   ]
  },
  {
   "cell_type": "code",
   "execution_count": 14,
   "metadata": {},
   "outputs": [
    {
     "data": {
      "text/html": [
       "<div>\n",
       "<style scoped>\n",
       "    .dataframe tbody tr th:only-of-type {\n",
       "        vertical-align: middle;\n",
       "    }\n",
       "\n",
       "    .dataframe tbody tr th {\n",
       "        vertical-align: top;\n",
       "    }\n",
       "\n",
       "    .dataframe thead th {\n",
       "        text-align: right;\n",
       "    }\n",
       "</style>\n",
       "<table border=\"1\" class=\"dataframe\">\n",
       "  <thead>\n",
       "    <tr style=\"text-align: right;\">\n",
       "      <th></th>\n",
       "      <th>pain level</th>\n",
       "    </tr>\n",
       "  </thead>\n",
       "  <tbody>\n",
       "    <tr>\n",
       "      <th>4</th>\n",
       "      <td>NaN</td>\n",
       "    </tr>\n",
       "    <tr>\n",
       "      <th>7</th>\n",
       "      <td>NaN</td>\n",
       "    </tr>\n",
       "    <tr>\n",
       "      <th>17</th>\n",
       "      <td>NaN</td>\n",
       "    </tr>\n",
       "    <tr>\n",
       "      <th>19</th>\n",
       "      <td>NaN</td>\n",
       "    </tr>\n",
       "    <tr>\n",
       "      <th>24</th>\n",
       "      <td>NaN</td>\n",
       "    </tr>\n",
       "  </tbody>\n",
       "</table>\n",
       "</div>"
      ],
      "text/plain": [
       "    pain level\n",
       "4          NaN\n",
       "7          NaN\n",
       "17         NaN\n",
       "19         NaN\n",
       "24         NaN"
      ]
     },
     "execution_count": 14,
     "metadata": {},
     "output_type": "execute_result"
    }
   ],
   "source": [
    "# Функция для отображения выбросов\n",
    "\n",
    "def quart(x, field):\n",
    "    q1 = x.quantile(0.25)\n",
    "    q3 = x.quantile(0.75)\n",
    "    iqr = q3 - q1\n",
    "    lower = q1 - (1.5 * iqr) \n",
    "    higher = q3 + (1.5 * iqr)\n",
    "    outliers = data[[field]][~x.between(lower, higher)]\n",
    "    return outliers[field]\n",
    "\n",
    "out2 = data[['pain level']].apply(quart, field='pain level')\n",
    "out2.head()"
   ]
  },
  {
   "cell_type": "markdown",
   "metadata": {},
   "source": [
    "> Получается, что NaN может считаться как выброс. При проверки других параметров также получаем NaN, соотвтественно \n",
    " мы можем предположить, что именно пропуски с NaN дают такое большое кол-во выборосов и действильных выбросов было бы\n",
    " меньше, если убрать пропуски.\n",
    " \n",
    "> Теперь проверим выбросы не зависящие от NaN: age, rectal temperature, pulse, respiratory rate"
   ]
  },
  {
   "cell_type": "code",
   "execution_count": 15,
   "metadata": {},
   "outputs": [
    {
     "data": {
      "text/html": [
       "<div>\n",
       "<style scoped>\n",
       "    .dataframe tbody tr th:only-of-type {\n",
       "        vertical-align: middle;\n",
       "    }\n",
       "\n",
       "    .dataframe tbody tr th {\n",
       "        vertical-align: top;\n",
       "    }\n",
       "\n",
       "    .dataframe thead th {\n",
       "        text-align: right;\n",
       "    }\n",
       "</style>\n",
       "<table border=\"1\" class=\"dataframe\">\n",
       "  <thead>\n",
       "    <tr style=\"text-align: right;\">\n",
       "      <th></th>\n",
       "      <th>age</th>\n",
       "      <th>counts</th>\n",
       "    </tr>\n",
       "  </thead>\n",
       "  <tbody>\n",
       "    <tr>\n",
       "      <th>0</th>\n",
       "      <td>2</td>\n",
       "      <td>24</td>\n",
       "    </tr>\n",
       "  </tbody>\n",
       "</table>\n",
       "</div>"
      ],
      "text/plain": [
       "   age  counts\n",
       "0    2      24"
      ]
     },
     "execution_count": 15,
     "metadata": {},
     "output_type": "execute_result"
    }
   ],
   "source": [
    "# Начнем с age:\n",
    "\n",
    "data[['age']].apply(quart, field='age').groupby('age').size().reset_index(name='counts')"
   ]
  },
  {
   "cell_type": "markdown",
   "metadata": {},
   "source": [
    "> Как можно увидеть выше, что цифра 2 была засчитана за выброс (младше 6 мес.), что не правильно, поэтому мы оставляем \n",
    " как есть.\n",
    "\n",
    "> Теперь проверим rectal temperature и округлим значения для визуального упрощения\n",
    "\n",
    "> Из описания rectal temperature:\n",
    "  - Нормальная температура 37,8, снижение температуры при шоке, повышенная температура может возникнуть из-за инфекции\n",
    "  - Параметр обычно меняется по мере развития проблемы:\n",
    "  Пример: может начаться нормально, а затем повыситься из-за воспаления, возвращаясь в нормальный диапазон, из-за шока"
   ]
  },
  {
   "cell_type": "code",
   "execution_count": 25,
   "metadata": {},
   "outputs": [
    {
     "name": "stdout",
     "output_type": "stream",
     "text": [
      "Кол-во NaN = [60] \n",
      "\n",
      "   rectal temperature  counts\n",
      "0                35.0       1\n",
      "1                36.0       5\n",
      "2                37.0       1\n",
      "3                40.0       6\n",
      "4                41.0       1\n",
      "\n",
      "Кол-во лошадей с повышенной температурой:  167\n"
     ]
    },
    {
     "data": {
      "text/plain": [
       "<matplotlib.axes._subplots.AxesSubplot at 0x1d0170aca48>"
      ]
     },
     "execution_count": 25,
     "metadata": {},
     "output_type": "execute_result"
    },
    {
     "data": {
      "image/png": "[encoded data removed]",
      "text/plain": [
       "<Figure size 432x288 with 1 Axes>"
      ]
     },
     "metadata": {
      "needs_background": "light"
     },
     "output_type": "display_data"
    }
   ],
   "source": [
    "data_rt = data[['rectal temperature']].apply(quart, field='rectal temperature')\n",
    "print(\"Кол-во NaN =\", data_rt.isna().sum().values,\"\\n\")\n",
    "print(round(data_rt).groupby('rectal temperature').size().reset_index(name='counts'))\n",
    "print(\"\\nКол-во лошадей с повышенной температурой: \",len(data[data['rectal temperature']>37.8]))\n",
    "\n",
    "data['rectal temperature'].hist()"
   ]
  },
  {
   "cell_type": "markdown",
   "metadata": {},
   "source": [
    "> Как можно видеть выше, выбросов по температуре немного и они происходят по естественным причинам у больных лошадей. \n",
    " Также больные лошади могут и не иметь повышеную температуру из-за шока, поэтому удаление этих выбросов нам ничего \n",
    " не даст и мы все выбросы оставляем как есть.\n",
    " Больше проблему представляют пропуски NaN (60 штук) и с ними нужно будет работать.\n",
    "\n",
    "> Теперь посмотрим поле pulse\n",
    " Из описания: 30-40 ударов в минуту - нормально для взрослых лошадей\n",
    " У спортивных лошадей может быть 20-25\n",
    " Животные с болезненными поражениями или страдающие от шока кровообращения может иметь повышенный пульс"
   ]
  },
  {
   "cell_type": "code",
   "execution_count": 17,
   "metadata": {},
   "outputs": [
    {
     "name": "stdout",
     "output_type": "stream",
     "text": [
      "Кол-во NaN = [24] \n",
      "\n",
      "   pulse  counts\n",
      "0  150.0       2\n",
      "1  160.0       1\n",
      "2  164.0       1\n",
      "3  184.0       1\n",
      "\n",
      "Кол-во лошадей с повышенным пульсом:  252\n"
     ]
    },
    {
     "data": {
      "text/plain": [
       "<matplotlib.axes._subplots.AxesSubplot at 0x1d015fdc4c8>"
      ]
     },
     "execution_count": 17,
     "metadata": {},
     "output_type": "execute_result"
    },
    {
     "data": {
      "image/png": "[encoded data removed]",
      "text/plain": [
       "<Figure size 432x288 with 1 Axes>"
      ]
     },
     "metadata": {
      "needs_background": "light"
     },
     "output_type": "display_data"
    }
   ],
   "source": [
    "data_p = data[['pulse']].apply(quart, field='pulse')\n",
    "print(\"Кол-во NaN =\", data_p.isna().sum().values,\"\\n\")\n",
    "print(round(data_p).groupby('pulse').size().reset_index(name='counts'))\n",
    "print(\"\\nКол-во лошадей с повышенным пульсом: \",len(data[data['pulse']>40]))\n",
    "\n",
    "data['pulse'].hist()"
   ]
  },
  {
   "cell_type": "markdown",
   "metadata": {},
   "source": [
    "> Как мы можем видеть, многие лошади в нашей выборке имеют повышенный пульс, что может говорить о их болезненном\n",
    " состоянии. Мы не можем просто удалить или заменить данные которые посчитаны выбросами, т.к. выбросы имеют естественную\n",
    " причину и являются просто очень высокий пульс. Оставляем эти данные как есть.\n",
    "\n",
    "> Теперь рассмотрим поле respiratory rate\n",
    " Описание: нормальная оценка от 8 до 10 - полезность сомнительна из-за больших колебаний."
   ]
  },
  {
   "cell_type": "code",
   "execution_count": 18,
   "metadata": {},
   "outputs": [
    {
     "name": "stdout",
     "output_type": "stream",
     "text": [
      "Кол-во NaN = [58] \n",
      "\n",
      "   respiratory rate  counts\n",
      "0              66.0       1\n",
      "1              68.0       3\n",
      "2              70.0       2\n",
      "3              72.0       1\n",
      "4              80.0       3\n",
      "5              84.0       2\n",
      "6              88.0       1\n",
      "7              90.0       2\n",
      "8              96.0       2\n",
      "\n",
      "Кол-во лошадей с учащенным дыханием:  236\n"
     ]
    },
    {
     "data": {
      "text/plain": [
       "<matplotlib.axes._subplots.AxesSubplot at 0x1d01702a448>"
      ]
     },
     "execution_count": 18,
     "metadata": {},
     "output_type": "execute_result"
    },
    {
     "data": {
      "image/png": "[encoded data removed]",
      "text/plain": [
       "<Figure size 432x288 with 1 Axes>"
      ]
     },
     "metadata": {
      "needs_background": "light"
     },
     "output_type": "display_data"
    }
   ],
   "source": [
    "data_p = data[['respiratory rate']].apply(quart, field='respiratory rate')\n",
    "print(\"Кол-во NaN =\",data_p.isna().sum().values,\"\\n\")\n",
    "print(round(data_p).groupby('respiratory rate').size().reset_index(name='counts'))\n",
    "print(\"\\nКол-во лошадей с учащенным дыханием: \",len(data[data['respiratory rate']>10]))\n",
    "\n",
    "data['respiratory rate'].hist()"
   ]
  },
  {
   "cell_type": "markdown",
   "metadata": {},
   "source": [
    "> Выбросы у частотя дыхания имеют естественную природу, хоть и присутствуют очень большие колебания.\n",
    " Удаление их нецелесообразно и мы их оставляем.\n",
    " В данном случае также большая проблема с NaN.\n",
    "\n",
    "> Как итог, мы можем сказать, что все выбросы в наших данных имеют естественную причину и мы их оставляем.\n",
    " Большенство параметров выходит за рамки нормы, поэтому мы предполагаем, что многие лошади в нашей выборке могут болеют."
   ]
  },
  {
   "cell_type": "markdown",
   "metadata": {},
   "source": [
    "\n",
    "### Задание 3. Работа с пропусками\n",
    "\n",
    "Рассчитать количество пропусков для всех выбранных столбцов. Принять и обосновать решение о методе работы с пропусками по каждому столбцу, сформировать датафрейм, в котором пропуски будут отсутствовать."
   ]
  },
  {
   "cell_type": "code",
   "execution_count": 39,
   "metadata": {},
   "outputs": [
    {
     "data": {
      "text/html": [
       "<div>\n",
       "<style scoped>\n",
       "    .dataframe tbody tr th:only-of-type {\n",
       "        vertical-align: middle;\n",
       "    }\n",
       "\n",
       "    .dataframe tbody tr th {\n",
       "        vertical-align: top;\n",
       "    }\n",
       "\n",
       "    .dataframe thead th {\n",
       "        text-align: right;\n",
       "    }\n",
       "</style>\n",
       "<table border=\"1\" class=\"dataframe\">\n",
       "  <thead>\n",
       "    <tr style=\"text-align: right;\">\n",
       "      <th></th>\n",
       "      <th>Параметр</th>\n",
       "      <th>Пропуски</th>\n",
       "    </tr>\n",
       "  </thead>\n",
       "  <tbody>\n",
       "    <tr>\n",
       "      <th>0</th>\n",
       "      <td>surgery</td>\n",
       "      <td>1</td>\n",
       "    </tr>\n",
       "    <tr>\n",
       "      <th>1</th>\n",
       "      <td>age</td>\n",
       "      <td>0</td>\n",
       "    </tr>\n",
       "    <tr>\n",
       "      <th>2</th>\n",
       "      <td>rectal temperature</td>\n",
       "      <td>60</td>\n",
       "    </tr>\n",
       "    <tr>\n",
       "      <th>3</th>\n",
       "      <td>pulse</td>\n",
       "      <td>24</td>\n",
       "    </tr>\n",
       "    <tr>\n",
       "      <th>4</th>\n",
       "      <td>respiratory rate</td>\n",
       "      <td>58</td>\n",
       "    </tr>\n",
       "    <tr>\n",
       "      <th>5</th>\n",
       "      <td>temperature of extremities</td>\n",
       "      <td>56</td>\n",
       "    </tr>\n",
       "    <tr>\n",
       "      <th>6</th>\n",
       "      <td>pain level</td>\n",
       "      <td>55</td>\n",
       "    </tr>\n",
       "    <tr>\n",
       "      <th>7</th>\n",
       "      <td>outcome</td>\n",
       "      <td>1</td>\n",
       "    </tr>\n",
       "  </tbody>\n",
       "</table>\n",
       "</div>"
      ],
      "text/plain": [
       "                     Параметр  Пропуски\n",
       "0                     surgery         1\n",
       "1                         age         0\n",
       "2          rectal temperature        60\n",
       "3                       pulse        24\n",
       "4            respiratory rate        58\n",
       "5  temperature of extremities        56\n",
       "6                  pain level        55\n",
       "7                     outcome         1"
      ]
     },
     "execution_count": 39,
     "metadata": {},
     "output_type": "execute_result"
    }
   ],
   "source": [
    "#Посчитаем кол-во пропусков в каждом из стоблцов\n",
    "\n",
    "def empty(x):\n",
    "    res = x.isnull().sum()\n",
    "    return res\n",
    "\n",
    "out3 = pd.DataFrame({'Параметр': values})\n",
    "out3.insert(1, \"Пропуски\", data.apply(empty).values)\n",
    "out3"
   ]
  },
  {
   "cell_type": "markdown",
   "metadata": {},
   "source": [
    "> По этой выборке можно увидеть, что пропуски (NaN) во многом совпадают c кол-вом выбросов.<br>\n",
    "> Единственное у параметра age отсутствуют пропуски и как мы видили выше за выбос бы принят age=2"
   ]
  },
  {
   "cell_type": "code",
   "execution_count": 40,
   "metadata": {},
   "outputs": [
    {
     "name": "stdout",
     "output_type": "stream",
     "text": [
      "Кол-во age=2: 24\n"
     ]
    }
   ],
   "source": [
    "print('Кол-во age=2:',len(data[data['age']==2]))"
   ]
  },
  {
   "cell_type": "markdown",
   "metadata": {},
   "source": [
    "> Далее возьмем остальные 7 параметров в которых обнаружены пропуски и будем работать с ними.<br>"
   ]
  },
  {
   "cell_type": "code",
   "execution_count": 41,
   "metadata": {},
   "outputs": [
    {
     "name": "stdout",
     "output_type": "stream",
     "text": [
      "surgery: 0.3%\n",
      "age: 0.0%\n",
      "rectal temperature: 20.0%\n",
      "pulse: 8.0%\n",
      "respiratory rate: 19.3%\n",
      "temperature of extremities: 18.7%\n",
      "pain level: 18.3%\n",
      "outcome: 0.3%\n",
      "Кол-во строк: 300\n"
     ]
    }
   ],
   "source": [
    "# Покажем в процентном отношении кол-во пропусков и выведем кол-во строк.\n",
    "\n",
    "for x in data.columns:\n",
    "    missing = data[x].isnull().mean()\n",
    "    print(f'{x}: {missing :.1%}')\n",
    "print('Кол-во строк:',len(data))  "
   ]
  },
  {
   "cell_type": "code",
   "execution_count": 42,
   "metadata": {},
   "outputs": [
    {
     "name": "stdout",
     "output_type": "stream",
     "text": [
      "Кол-во строк: 299\n"
     ]
    }
   ],
   "source": [
    "# Т.к. пустых значений в surgery и outcome незначительно, то просто удалим эти строки\n",
    "\n",
    "data3 = data.dropna(subset=['surgery','outcome'])\n",
    "print('Кол-во строк:',len(data3))"
   ]
  },
  {
   "cell_type": "code",
   "execution_count": 43,
   "metadata": {},
   "outputs": [],
   "source": [
    "# Добавим фукцию для вывода основных параметров для каждого поля\n",
    "\n",
    "def params(x, title=''):\n",
    "    print(x.name,title)\n",
    "    print('Среднее:',round(x.mean(),3))\n",
    "    print('Медиана:',round(x.median(),3))\n",
    "    print('Мода:',round(x.mode(),3)[0])\n",
    "    print('Сред.отклонение',round(x.std(),3),\"\\n\")"
   ]
  },
  {
   "cell_type": "markdown",
   "metadata": {},
   "source": [
    "> Возьмем параметр rectal temperature. Как мы видели выше, у более половины лошадей он больше нормы.<br>\n",
    "Построим графики, чтобы понять с каким из параметров он может быть более связан."
   ]
  },
  {
   "cell_type": "code",
   "execution_count": 56,
   "metadata": {},
   "outputs": [
    {
     "data": {
      "image/png": "[encoded data removed]",
      "text/plain": [
       "<Figure size 432x288 with 1 Axes>"
      ]
     },
     "metadata": {
      "needs_background": "light"
     },
     "output_type": "display_data"
    },
    {
     "data": {
      "image/png": "[encoded data removed]",
      "text/plain": [
       "<Figure size 432x288 with 1 Axes>"
      ]
     },
     "metadata": {
      "needs_background": "light"
     },
     "output_type": "display_data"
    },
    {
     "data": {
      "image/png": "[encoded data removed]",
      "text/plain": [
       "<Figure size 432x288 with 1 Axes>"
      ]
     },
     "metadata": {
      "needs_background": "light"
     },
     "output_type": "display_data"
    }
   ],
   "source": [
    "plt.scatter(data['surgery'],data['rectal temperature'])\n",
    "plt.ylabel('Температура')\n",
    "plt.xlabel('Операция')\n",
    "plt.show()\n",
    "plt.scatter(data['age'],data['rectal temperature'])\n",
    "plt.ylabel('Температура')\n",
    "plt.xlabel('Возраст')\n",
    "plt.show()\n",
    "plt.scatter(data['outcome'],data['rectal temperature'])\n",
    "plt.ylabel('Температура')\n",
    "plt.xlabel('Результат')\n",
    "plt.show()"
   ]
  },
  {
   "cell_type": "markdown",
   "metadata": {},
   "source": [
    "> Как видно из графиков, температура более молодых лошадей ближе к норме, чем температура более возрастных. На основании этого мы можем сгруппировать данные по возрасту и заполнить пропуски отдельными данными для каждой возрастной группы.<br>\n",
    "> Медиана, мода и среднее значение у rectal temperature практически равны, среднее отклонение незначительно, а сам показатель является непрерывным, поэтому заменяем пропуски средне.арифмитическим значением."
   ]
  },
  {
   "cell_type": "code",
   "execution_count": 45,
   "metadata": {},
   "outputs": [
    {
     "name": "stdout",
     "output_type": "stream",
     "text": [
      "rectal temperature было\n",
      "Среднее: 38.168\n",
      "Медиана: 38.2\n",
      "Мода: 38.0\n",
      "Сред.отклонение 0.732 \n",
      "\n",
      "rectal temperature стало\n",
      "Среднее: 38.167\n",
      "Медиана: 38.125\n",
      "Мода: 38.125\n",
      "Сред.отклонение 0.658 \n",
      "\n"
     ]
    }
   ],
   "source": [
    "vmean = data['rectal temperature'].mean()\n",
    "data3['rectal temperature'].fillna(data.groupby('age')['rectal temperature'].transform('mean'), inplace=True)\n",
    "\n",
    "params(data['rectal temperature'], 'было')\n",
    "params(data3['rectal temperature'], 'стало')\n",
    "\n",
    "# Как можно увидеть, параметры значительно не изменились, значит двигаемся дальше"
   ]
  },
  {
   "cell_type": "code",
   "execution_count": 18,
   "metadata": {},
   "outputs": [
    {
     "name": "stdout",
     "output_type": "stream",
     "text": [
      "pulse было\n",
      "Среднее: 71.91\n",
      "Медиана: 64.0\n",
      "Мода: 48.0\n",
      "Сред.отклонение 28.63 \n",
      "\n",
      "pulse стало\n",
      "Среднее: 71.36\n",
      "Медиана: 64.0\n",
      "Мода: 64.0\n",
      "Сред.отклонение 27.55 \n",
      "\n"
     ]
    }
   ],
   "source": [
    "# Для pulse размах достаточно велик, а также разница между средним, медианой и модой, поэтому заполним пропуски медианой\n",
    "\n",
    "vmedian = data['pulse'].median()\n",
    "data3['pulse'].fillna(vmedian, inplace=True)\n",
    "\n",
    "params(data['pulse'], 'было')\n",
    "params(data3['pulse'], 'стало')\n",
    "\n",
    "# Кроме моды значения сильно не изменились поэтому переходим к следюущему параметру"
   ]
  },
  {
   "cell_type": "code",
   "execution_count": 21,
   "metadata": {},
   "outputs": [
    {
     "name": "stdout",
     "output_type": "stream",
     "text": [
      "respiratory rate было\n",
      "Среднее: 30.42\n",
      "Медиана: 24.5\n",
      "Мода: 20.0\n",
      "Сред.отклонение 17.64 \n",
      "\n",
      "respiratory rate стало\n",
      "Среднее: 29.3\n",
      "Медиана: 24.5\n",
      "Мода: 24.5\n",
      "Сред.отклонение 16.03 \n",
      "\n"
     ]
    }
   ],
   "source": [
    "# Для respiratory rate также как и для предыдущего параметра достаточно большой размах, а также в описании сказано, что\n",
    "# полезность этого параметра сомнительна из-за больших колебаний, поэтому здесь также заменим медианой\n",
    "\n",
    "vmedian = data['respiratory rate'].median()\n",
    "data3['respiratory rate'].fillna(vmedian, inplace=True)\n",
    "\n",
    "params(data['respiratory rate'], 'было')\n",
    "params(data3['respiratory rate'], 'стало')\n",
    "\n",
    "# Изменилось среднее значение, мода и среднее отклонение, но приняв во внимание большое кол-во колебаний оставляем это"
   ]
  },
  {
   "cell_type": "code",
   "execution_count": 22,
   "metadata": {},
   "outputs": [
    {
     "name": "stdout",
     "output_type": "stream",
     "text": [
      "temperature of extremities было\n",
      "Среднее: 2.35\n",
      "Медиана: 3.0\n",
      "Мода: 3.0\n",
      "Сред.отклонение 1.05 \n",
      "\n",
      "temperature of extremities стало\n",
      "Среднее: 2.47\n",
      "Медиана: 3.0\n",
      "Мода: 3.0\n",
      "Сред.отклонение 0.98 \n",
      "\n"
     ]
    }
   ],
   "source": [
    "# temperature of extremities - имеет фиксированные значения и небольшие средние отклонения. Для замены возьмем моду\n",
    "\n",
    "vmode = data['temperature of extremities'].mode()[0]\n",
    "data3['temperature of extremities'].fillna(vmode, inplace=True)\n",
    "\n",
    "params(data['temperature of extremities'], 'было')\n",
    "params(data3['temperature of extremities'], 'стало')\n",
    "\n",
    "# Как видно значения сильно не изменились и поэтому переходим далее"
   ]
  },
  {
   "cell_type": "code",
   "execution_count": 23,
   "metadata": {},
   "outputs": [
    {
     "name": "stdout",
     "output_type": "stream",
     "text": [
      "pain level было\n",
      "Среднее: 2.95\n",
      "Медиана: 3.0\n",
      "Мода: 3.0\n",
      "Сред.отклонение 1.31 \n",
      "\n",
      "pain level стало\n",
      "Среднее: 2.96\n",
      "Медиана: 3.0\n",
      "Мода: 3.0\n",
      "Сред.отклонение 1.18 \n",
      "\n"
     ]
    }
   ],
   "source": [
    "# pain level - также имеет фиксированные значения и небольшие отклонения и для замены возьмем моду\n",
    "\n",
    "vmode = data['pain level'].mode()[0]\n",
    "data3['pain level'].fillna(vmode, inplace=True)\n",
    "\n",
    "params(data['pain level'], 'было')\n",
    "params(data3['pain level'], 'стало')\n",
    "\n",
    "# Здесь также значения не сильно отличаются"
   ]
  },
  {
   "cell_type": "code",
   "execution_count": 24,
   "metadata": {},
   "outputs": [
    {
     "data": {
      "text/html": [
       "<div>\n",
       "<style scoped>\n",
       "    .dataframe tbody tr th:only-of-type {\n",
       "        vertical-align: middle;\n",
       "    }\n",
       "\n",
       "    .dataframe tbody tr th {\n",
       "        vertical-align: top;\n",
       "    }\n",
       "\n",
       "    .dataframe thead th {\n",
       "        text-align: right;\n",
       "    }\n",
       "</style>\n",
       "<table border=\"1\" class=\"dataframe\">\n",
       "  <thead>\n",
       "    <tr style=\"text-align: right;\">\n",
       "      <th></th>\n",
       "      <th>surgery</th>\n",
       "      <th>age</th>\n",
       "      <th>rectal temperature</th>\n",
       "      <th>pulse</th>\n",
       "      <th>respiratory rate</th>\n",
       "      <th>temperature of extremities</th>\n",
       "      <th>pain level</th>\n",
       "      <th>outcome</th>\n",
       "    </tr>\n",
       "  </thead>\n",
       "  <tbody>\n",
       "    <tr>\n",
       "      <th>0</th>\n",
       "      <td>2.0</td>\n",
       "      <td>1</td>\n",
       "      <td>38.500000</td>\n",
       "      <td>66.0</td>\n",
       "      <td>28.0</td>\n",
       "      <td>3.0</td>\n",
       "      <td>5.0</td>\n",
       "      <td>2.0</td>\n",
       "    </tr>\n",
       "    <tr>\n",
       "      <th>1</th>\n",
       "      <td>1.0</td>\n",
       "      <td>1</td>\n",
       "      <td>39.200000</td>\n",
       "      <td>88.0</td>\n",
       "      <td>20.0</td>\n",
       "      <td>3.0</td>\n",
       "      <td>3.0</td>\n",
       "      <td>3.0</td>\n",
       "    </tr>\n",
       "    <tr>\n",
       "      <th>2</th>\n",
       "      <td>2.0</td>\n",
       "      <td>1</td>\n",
       "      <td>38.300000</td>\n",
       "      <td>40.0</td>\n",
       "      <td>24.0</td>\n",
       "      <td>1.0</td>\n",
       "      <td>3.0</td>\n",
       "      <td>1.0</td>\n",
       "    </tr>\n",
       "    <tr>\n",
       "      <th>3</th>\n",
       "      <td>1.0</td>\n",
       "      <td>2</td>\n",
       "      <td>39.100000</td>\n",
       "      <td>164.0</td>\n",
       "      <td>84.0</td>\n",
       "      <td>4.0</td>\n",
       "      <td>2.0</td>\n",
       "      <td>2.0</td>\n",
       "    </tr>\n",
       "    <tr>\n",
       "      <th>4</th>\n",
       "      <td>2.0</td>\n",
       "      <td>1</td>\n",
       "      <td>37.300000</td>\n",
       "      <td>104.0</td>\n",
       "      <td>35.0</td>\n",
       "      <td>3.0</td>\n",
       "      <td>3.0</td>\n",
       "      <td>2.0</td>\n",
       "    </tr>\n",
       "    <tr>\n",
       "      <th>...</th>\n",
       "      <td>...</td>\n",
       "      <td>...</td>\n",
       "      <td>...</td>\n",
       "      <td>...</td>\n",
       "      <td>...</td>\n",
       "      <td>...</td>\n",
       "      <td>...</td>\n",
       "      <td>...</td>\n",
       "    </tr>\n",
       "    <tr>\n",
       "      <th>295</th>\n",
       "      <td>1.0</td>\n",
       "      <td>1</td>\n",
       "      <td>38.167917</td>\n",
       "      <td>120.0</td>\n",
       "      <td>70.0</td>\n",
       "      <td>4.0</td>\n",
       "      <td>2.0</td>\n",
       "      <td>3.0</td>\n",
       "    </tr>\n",
       "    <tr>\n",
       "      <th>296</th>\n",
       "      <td>2.0</td>\n",
       "      <td>1</td>\n",
       "      <td>37.200000</td>\n",
       "      <td>72.0</td>\n",
       "      <td>24.0</td>\n",
       "      <td>3.0</td>\n",
       "      <td>4.0</td>\n",
       "      <td>3.0</td>\n",
       "    </tr>\n",
       "    <tr>\n",
       "      <th>297</th>\n",
       "      <td>1.0</td>\n",
       "      <td>1</td>\n",
       "      <td>37.500000</td>\n",
       "      <td>72.0</td>\n",
       "      <td>30.0</td>\n",
       "      <td>4.0</td>\n",
       "      <td>4.0</td>\n",
       "      <td>2.0</td>\n",
       "    </tr>\n",
       "    <tr>\n",
       "      <th>298</th>\n",
       "      <td>1.0</td>\n",
       "      <td>1</td>\n",
       "      <td>36.500000</td>\n",
       "      <td>100.0</td>\n",
       "      <td>24.0</td>\n",
       "      <td>3.0</td>\n",
       "      <td>3.0</td>\n",
       "      <td>1.0</td>\n",
       "    </tr>\n",
       "    <tr>\n",
       "      <th>299</th>\n",
       "      <td>1.0</td>\n",
       "      <td>1</td>\n",
       "      <td>37.200000</td>\n",
       "      <td>40.0</td>\n",
       "      <td>20.0</td>\n",
       "      <td>3.0</td>\n",
       "      <td>3.0</td>\n",
       "      <td>3.0</td>\n",
       "    </tr>\n",
       "  </tbody>\n",
       "</table>\n",
       "<p>299 rows × 8 columns</p>\n",
       "</div>"
      ],
      "text/plain": [
       "     surgery  age  rectal temperature  pulse  respiratory rate  \\\n",
       "0        2.0    1           38.500000   66.0              28.0   \n",
       "1        1.0    1           39.200000   88.0              20.0   \n",
       "2        2.0    1           38.300000   40.0              24.0   \n",
       "3        1.0    2           39.100000  164.0              84.0   \n",
       "4        2.0    1           37.300000  104.0              35.0   \n",
       "..       ...  ...                 ...    ...               ...   \n",
       "295      1.0    1           38.167917  120.0              70.0   \n",
       "296      2.0    1           37.200000   72.0              24.0   \n",
       "297      1.0    1           37.500000   72.0              30.0   \n",
       "298      1.0    1           36.500000  100.0              24.0   \n",
       "299      1.0    1           37.200000   40.0              20.0   \n",
       "\n",
       "     temperature of extremities  pain level  outcome  \n",
       "0                           3.0         5.0      2.0  \n",
       "1                           3.0         3.0      3.0  \n",
       "2                           1.0         3.0      1.0  \n",
       "3                           4.0         2.0      2.0  \n",
       "4                           3.0         3.0      2.0  \n",
       "..                          ...         ...      ...  \n",
       "295                         4.0         2.0      3.0  \n",
       "296                         3.0         4.0      3.0  \n",
       "297                         4.0         4.0      2.0  \n",
       "298                         3.0         3.0      1.0  \n",
       "299                         3.0         3.0      3.0  \n",
       "\n",
       "[299 rows x 8 columns]"
      ]
     },
     "execution_count": 24,
     "metadata": {},
     "output_type": "execute_result"
    }
   ],
   "source": [
    "# В итоге мы заполнили все пустые значения и теперь выведем получившихся датафрейм\n",
    "data3"
   ]
  },
  {
   "cell_type": "code",
   "execution_count": 25,
   "metadata": {},
   "outputs": [
    {
     "data": {
      "text/html": [
       "<div>\n",
       "<style scoped>\n",
       "    .dataframe tbody tr th:only-of-type {\n",
       "        vertical-align: middle;\n",
       "    }\n",
       "\n",
       "    .dataframe tbody tr th {\n",
       "        vertical-align: top;\n",
       "    }\n",
       "\n",
       "    .dataframe thead th {\n",
       "        text-align: right;\n",
       "    }\n",
       "</style>\n",
       "<table border=\"1\" class=\"dataframe\">\n",
       "  <thead>\n",
       "    <tr style=\"text-align: right;\">\n",
       "      <th></th>\n",
       "      <th>Параметр</th>\n",
       "      <th>Среднее</th>\n",
       "      <th>Медиана</th>\n",
       "      <th>Мода</th>\n",
       "      <th>Минимум</th>\n",
       "      <th>Максимум</th>\n",
       "      <th>Сред.отклонение</th>\n",
       "      <th>Размах</th>\n",
       "    </tr>\n",
       "  </thead>\n",
       "  <tbody>\n",
       "    <tr>\n",
       "      <th>0</th>\n",
       "      <td>surgery</td>\n",
       "      <td>1.398</td>\n",
       "      <td>1.000</td>\n",
       "      <td>1.000</td>\n",
       "      <td>1.0</td>\n",
       "      <td>2.0</td>\n",
       "      <td>0.490</td>\n",
       "      <td>1.0</td>\n",
       "    </tr>\n",
       "    <tr>\n",
       "      <th>1</th>\n",
       "      <td>age</td>\n",
       "      <td>1.080</td>\n",
       "      <td>1.000</td>\n",
       "      <td>1.000</td>\n",
       "      <td>1.0</td>\n",
       "      <td>2.0</td>\n",
       "      <td>0.272</td>\n",
       "      <td>1.0</td>\n",
       "    </tr>\n",
       "    <tr>\n",
       "      <th>2</th>\n",
       "      <td>rectal temperature</td>\n",
       "      <td>38.168</td>\n",
       "      <td>38.168</td>\n",
       "      <td>38.168</td>\n",
       "      <td>35.4</td>\n",
       "      <td>40.8</td>\n",
       "      <td>0.656</td>\n",
       "      <td>5.4</td>\n",
       "    </tr>\n",
       "    <tr>\n",
       "      <th>3</th>\n",
       "      <td>pulse</td>\n",
       "      <td>71.358</td>\n",
       "      <td>64.000</td>\n",
       "      <td>64.000</td>\n",
       "      <td>30.0</td>\n",
       "      <td>184.0</td>\n",
       "      <td>27.555</td>\n",
       "      <td>154.0</td>\n",
       "    </tr>\n",
       "    <tr>\n",
       "      <th>4</th>\n",
       "      <td>respiratory rate</td>\n",
       "      <td>29.304</td>\n",
       "      <td>24.500</td>\n",
       "      <td>24.500</td>\n",
       "      <td>8.0</td>\n",
       "      <td>96.0</td>\n",
       "      <td>16.029</td>\n",
       "      <td>88.0</td>\n",
       "    </tr>\n",
       "    <tr>\n",
       "      <th>5</th>\n",
       "      <td>temperature of extremities</td>\n",
       "      <td>2.468</td>\n",
       "      <td>3.000</td>\n",
       "      <td>3.000</td>\n",
       "      <td>1.0</td>\n",
       "      <td>4.0</td>\n",
       "      <td>0.977</td>\n",
       "      <td>3.0</td>\n",
       "    </tr>\n",
       "    <tr>\n",
       "      <th>6</th>\n",
       "      <td>pain level</td>\n",
       "      <td>2.957</td>\n",
       "      <td>3.000</td>\n",
       "      <td>3.000</td>\n",
       "      <td>1.0</td>\n",
       "      <td>5.0</td>\n",
       "      <td>1.182</td>\n",
       "      <td>4.0</td>\n",
       "    </tr>\n",
       "    <tr>\n",
       "      <th>7</th>\n",
       "      <td>outcome</td>\n",
       "      <td>1.552</td>\n",
       "      <td>1.000</td>\n",
       "      <td>1.000</td>\n",
       "      <td>1.0</td>\n",
       "      <td>3.0</td>\n",
       "      <td>0.737</td>\n",
       "      <td>2.0</td>\n",
       "    </tr>\n",
       "  </tbody>\n",
       "</table>\n",
       "</div>"
      ],
      "text/plain": [
       "                     Параметр  Среднее  Медиана    Мода  Минимум  Максимум  \\\n",
       "0                     surgery    1.398    1.000   1.000      1.0       2.0   \n",
       "1                         age    1.080    1.000   1.000      1.0       2.0   \n",
       "2          rectal temperature   38.168   38.168  38.168     35.4      40.8   \n",
       "3                       pulse   71.358   64.000  64.000     30.0     184.0   \n",
       "4            respiratory rate   29.304   24.500  24.500      8.0      96.0   \n",
       "5  temperature of extremities    2.468    3.000   3.000      1.0       4.0   \n",
       "6                  pain level    2.957    3.000   3.000      1.0       5.0   \n",
       "7                     outcome    1.552    1.000   1.000      1.0       3.0   \n",
       "\n",
       "   Сред.отклонение  Размах  \n",
       "0            0.490     1.0  \n",
       "1            0.272     1.0  \n",
       "2            0.656     5.4  \n",
       "3           27.555   154.0  \n",
       "4           16.029    88.0  \n",
       "5            0.977     3.0  \n",
       "6            1.182     4.0  \n",
       "7            0.737     2.0  "
      ]
     },
     "execution_count": 25,
     "metadata": {},
     "output_type": "execute_result"
    }
   ],
   "source": [
    "# Повторим расчеты базовых метрик для нового датафрейма\n",
    "\n",
    "out4 = pd.DataFrame({'Параметр': values})\n",
    "\n",
    "out4.insert(1, \"Среднее\", data3.apply(lambda x: round(x.mean(), 3)).values)\n",
    "out4.insert(2, \"Медиана\", data3.apply(lambda x: round(x.median(), 3)).values)\n",
    "out4.insert(3, \"Мода\", data3.apply(lambda x: round(x.mode()[0], 3)).values)\n",
    "out4.insert(4, \"Минимум\", data3.apply(lambda x: round(min(x), 3)).values)\n",
    "out4.insert(5, \"Максимум\", data3.apply(lambda x: round(max(x), 3)).values)\n",
    "out4.insert(6, \"Сред.отклонение\", data3.apply(lambda x: round(x.std(), 3)).values)\n",
    "out4.insert(7, \"Размах\", data3.apply(lambda x: round(max(x)-min(x), 3)).values)\n",
    "\n",
    "out4"
   ]
  },
  {
   "cell_type": "code",
   "execution_count": 26,
   "metadata": {},
   "outputs": [
    {
     "data": {
      "text/html": [
       "<div>\n",
       "<style scoped>\n",
       "    .dataframe tbody tr th:only-of-type {\n",
       "        vertical-align: middle;\n",
       "    }\n",
       "\n",
       "    .dataframe tbody tr th {\n",
       "        vertical-align: top;\n",
       "    }\n",
       "\n",
       "    .dataframe thead th {\n",
       "        text-align: right;\n",
       "    }\n",
       "</style>\n",
       "<table border=\"1\" class=\"dataframe\">\n",
       "  <thead>\n",
       "    <tr style=\"text-align: right;\">\n",
       "      <th></th>\n",
       "      <th>Параметр</th>\n",
       "      <th>Среднее</th>\n",
       "      <th>Медиана</th>\n",
       "      <th>Мода</th>\n",
       "      <th>Минимум</th>\n",
       "      <th>Максимум</th>\n",
       "      <th>Сред.отклонение</th>\n",
       "      <th>Размах</th>\n",
       "    </tr>\n",
       "  </thead>\n",
       "  <tbody>\n",
       "    <tr>\n",
       "      <th>0</th>\n",
       "      <td>surgery</td>\n",
       "      <td>1.398</td>\n",
       "      <td>1.0</td>\n",
       "      <td>1.0</td>\n",
       "      <td>1.0</td>\n",
       "      <td>2.0</td>\n",
       "      <td>0.490</td>\n",
       "      <td>1.0</td>\n",
       "    </tr>\n",
       "    <tr>\n",
       "      <th>1</th>\n",
       "      <td>age</td>\n",
       "      <td>1.080</td>\n",
       "      <td>1.0</td>\n",
       "      <td>1.0</td>\n",
       "      <td>1.0</td>\n",
       "      <td>2.0</td>\n",
       "      <td>0.272</td>\n",
       "      <td>1.0</td>\n",
       "    </tr>\n",
       "    <tr>\n",
       "      <th>2</th>\n",
       "      <td>rectal temperature</td>\n",
       "      <td>38.168</td>\n",
       "      <td>38.2</td>\n",
       "      <td>38.0</td>\n",
       "      <td>35.4</td>\n",
       "      <td>40.8</td>\n",
       "      <td>0.732</td>\n",
       "      <td>5.4</td>\n",
       "    </tr>\n",
       "    <tr>\n",
       "      <th>3</th>\n",
       "      <td>pulse</td>\n",
       "      <td>71.913</td>\n",
       "      <td>64.0</td>\n",
       "      <td>48.0</td>\n",
       "      <td>30.0</td>\n",
       "      <td>184.0</td>\n",
       "      <td>28.631</td>\n",
       "      <td>154.0</td>\n",
       "    </tr>\n",
       "    <tr>\n",
       "      <th>4</th>\n",
       "      <td>respiratory rate</td>\n",
       "      <td>30.417</td>\n",
       "      <td>24.5</td>\n",
       "      <td>20.0</td>\n",
       "      <td>8.0</td>\n",
       "      <td>96.0</td>\n",
       "      <td>17.642</td>\n",
       "      <td>88.0</td>\n",
       "    </tr>\n",
       "    <tr>\n",
       "      <th>5</th>\n",
       "      <td>temperature of extremities</td>\n",
       "      <td>2.348</td>\n",
       "      <td>3.0</td>\n",
       "      <td>3.0</td>\n",
       "      <td>1.0</td>\n",
       "      <td>4.0</td>\n",
       "      <td>1.045</td>\n",
       "      <td>3.0</td>\n",
       "    </tr>\n",
       "    <tr>\n",
       "      <th>6</th>\n",
       "      <td>pain level</td>\n",
       "      <td>2.951</td>\n",
       "      <td>3.0</td>\n",
       "      <td>3.0</td>\n",
       "      <td>1.0</td>\n",
       "      <td>5.0</td>\n",
       "      <td>1.308</td>\n",
       "      <td>4.0</td>\n",
       "    </tr>\n",
       "    <tr>\n",
       "      <th>7</th>\n",
       "      <td>outcome</td>\n",
       "      <td>1.552</td>\n",
       "      <td>1.0</td>\n",
       "      <td>1.0</td>\n",
       "      <td>1.0</td>\n",
       "      <td>3.0</td>\n",
       "      <td>0.737</td>\n",
       "      <td>2.0</td>\n",
       "    </tr>\n",
       "  </tbody>\n",
       "</table>\n",
       "</div>"
      ],
      "text/plain": [
       "                     Параметр  Среднее  Медиана  Мода  Минимум  Максимум  \\\n",
       "0                     surgery    1.398      1.0   1.0      1.0       2.0   \n",
       "1                         age    1.080      1.0   1.0      1.0       2.0   \n",
       "2          rectal temperature   38.168     38.2  38.0     35.4      40.8   \n",
       "3                       pulse   71.913     64.0  48.0     30.0     184.0   \n",
       "4            respiratory rate   30.417     24.5  20.0      8.0      96.0   \n",
       "5  temperature of extremities    2.348      3.0   3.0      1.0       4.0   \n",
       "6                  pain level    2.951      3.0   3.0      1.0       5.0   \n",
       "7                     outcome    1.552      1.0   1.0      1.0       3.0   \n",
       "\n",
       "   Сред.отклонение  Размах  \n",
       "0            0.490     1.0  \n",
       "1            0.272     1.0  \n",
       "2            0.732     5.4  \n",
       "3           28.631   154.0  \n",
       "4           17.642    88.0  \n",
       "5            1.045     3.0  \n",
       "6            1.308     4.0  \n",
       "7            0.737     2.0  "
      ]
     },
     "execution_count": 26,
     "metadata": {},
     "output_type": "execute_result"
    }
   ],
   "source": [
    "# Выведем базовые метрики для исходного датафрейма для сравнения\n",
    "\n",
    "out = pd.DataFrame({'Параметр': values})\n",
    "\n",
    "out.insert(1, \"Среднее\", data.apply(lambda x: round(x.mean(), 3)).values)\n",
    "out.insert(2, \"Медиана\", data.apply(lambda x: round(x.median(), 3)).values)\n",
    "out.insert(3, \"Мода\", data.apply(lambda x: round(x.mode()[0], 3)).values)\n",
    "out.insert(4, \"Минимум\", data.apply(lambda x: round(min(x), 3)).values)\n",
    "out.insert(5, \"Максимум\", data.apply(lambda x: round(max(x), 3)).values)\n",
    "out.insert(6, \"Сред.отклонение\", data.apply(lambda x: round(x.std(), 3)).values)\n",
    "out.insert(7, \"Размах\", data.apply(lambda x: round(max(x)-min(x), 3)).values)\n",
    "\n",
    "out"
   ]
  },
  {
   "cell_type": "markdown",
   "metadata": {},
   "source": [
    "## Названия столбцов и перевод\n",
    "\n",
    "1:  surgery\\\n",
    "    1 = Yes, it had surgery\\\n",
    "    2 = It was treated without surgery\n",
    "\n",
    "1: операция\\\n",
    "    1 = Да, была операция\\\n",
    "    2 = Лечение прошло без хирургического вмешательства\n",
    "\t  \n",
    "----------\n",
    "\n",
    "2:  Age\\\n",
    "    1 = Adult horse\\\n",
    "    2 = Young (< 6 months)\n",
    "\t  \n",
    "2: Возраст\\\n",
    "    1 = взрослая лошадь\\\n",
    "    2 = Молодой (<6 месяцев)\n",
    "\n",
    "----------\n",
    "\n",
    "4:  rectal temperature\n",
    "\t  - linear\n",
    "\t  - in degrees celsius.\n",
    "\t  - An elevated temp may occur due to infection.\n",
    "\t  - temperature may be reduced when the animal is in late shock\n",
    "\t  - normal temp is 37.8\n",
    "\t  - this parameter will usually change as the problem progresses\n",
    "\t\t   eg. may start out normal, then become elevated because of\n",
    "\t\t\t   the lesion, passing back through the normal range as the\n",
    "\t\t\t   horse goes into shock\n",
    "\n",
    "4: ректальная температура\n",
    "\t  - линейный\n",
    "\t  - в градусах Цельсия.\n",
    "\t  - Повышенная температура может возникнуть из-за инфекции.\n",
    "\t  - возможно снижение температуры при позднем шоке\n",
    "\t  - нормальная температура 37,8\n",
    "\t  - этот параметр обычно меняется по мере развития проблемы.\n",
    "\t\t   например. может начаться нормально, а затем повыситься из-за\n",
    "\t\t\t   поражение, возвращаясь в нормальный диапазон, как\n",
    "\t\t\t   лошадь в шоке\n",
    "\n",
    "----------\n",
    "\n",
    "5:  pulse\n",
    "\t  - linear\n",
    "\t  - the heart rate in beats per minute\n",
    "\t  - is a reflection of the heart condition: 30 -40 is normal for adults\n",
    "\t  - rare to have a lower than normal rate although athletic horses\n",
    "\t\tmay have a rate of 20-25\n",
    "\t  - animals with painful lesions or suffering from circulatory shock\n",
    "\t\tmay have an elevated heart rate\n",
    "\n",
    "5: пульс\n",
    "\t  - линейный\n",
    "\t  - частота пульса в ударах в минуту\n",
    "\t  - отражает состояние сердца: 30-40 - нормально для взрослых\n",
    "\t  - редко бывает ниже нормы, хотя у спортивных лошадей\n",
    "\t\tможет иметь коэффициент 20-25\n",
    "\t  - животные с болезненными поражениями или страдающие от шока кровообращения\n",
    "\t\tможет иметь повышенный пульс\n",
    "\n",
    "----------\n",
    "\n",
    "6:  respiratory rate\n",
    "\t  - linear\n",
    "\t  - normal rate is 8 to 10\n",
    "\t  - usefulness is doubtful due to the great fluctuations\n",
    "\n",
    "6: частота дыхания\n",
    "\t  - линейный\n",
    "\t  - нормальная оценка от 8 до 10\n",
    "\t  - полезность сомнительна из-за больших колебаний\n",
    "\n",
    "----------\n",
    "\n",
    "7:  temperature of extremities\n",
    "\t  - a subjective indication of peripheral circulation\n",
    "\t  - possible values:\n",
    "\t\t   1 = Normal\n",
    "\t\t   2 = Warm\n",
    "\t\t   3 = Cool\n",
    "\t\t   4 = Cold\n",
    "\t  - cool to cold extremities indicate possible shock\n",
    "\t  - hot extremities should correlate with an elevated rectal temp.\n",
    "\n",
    "7: температура конечностей\n",
    "\t  - субъективное указание на периферическое кровообращение\n",
    "\t  - возможные значения:\n",
    "\t\t   1 = Нормальный\n",
    "\t\t   2 = Теплый\n",
    "\t\t   3 = Прохладный\n",
    "\t\t   4 = Холодный\n",
    "\t  - холодные или холодные конечности указывают на возможный шок\n",
    "\t  - горячие конечности должны коррелировать с повышенной ректальной температурой.\n",
    "\n",
    "----------\n",
    "\n",
    "11: pain - a subjective judgement of the horse's pain level\n",
    "\t  - possible values:\n",
    "\t\t   1 = alert, no pain\n",
    "\t\t   2 = depressed\n",
    "\t\t   3 = intermittent mild pain\n",
    "\t\t   4 = intermittent severe pain\n",
    "\t\t   5 = continuous severe pain\n",
    "\t  - should NOT be treated as a ordered or discrete variable!\n",
    "\t  - In general, the more painful, the more likely it is to require\n",
    "\t\tsurgery\n",
    "\t  - prior treatment of pain may mask the pain level to some extent\n",
    "\n",
    "11: боль - субъективное суждение об уровне боли лошади\n",
    "\t  - возможные значения:\n",
    "\t\t   1 = тревога, без боли\n",
    "\t\t   2 = депрессия\n",
    "\t\t   3 = периодическая легкая боль\n",
    "\t\t   4 = периодическая сильная боль\n",
    "\t\t   5 = постоянная сильная боль\n",
    "\t  - НЕ следует рассматривать как упорядоченную или дискретную переменную!\n",
    "\t  - В целом, чем больнее, тем больше вероятность того, что потребуется\n",
    "\t\tоперация\n",
    "\t  - предварительное лечение боли может в некоторой степени замаскировать уровень боли\n",
    "\n",
    "----------\n",
    "\n",
    "23: outcome\n",
    "\t  - what eventually happened to the horse?\n",
    "\t  - possible values:\n",
    "\t\t   1 = lived\n",
    "\t\t   2 = died\n",
    "\t\t   3 = was euthanized\n",
    "\t\t   \n",
    "23: результат\n",
    "\t  - что в итоге случилось с лошадью?\n",
    "\t  - возможные значения:\n",
    "\t\t   1 = жил\n",
    "\t\t   2 = умер\n",
    "\t\t   3 = был усыплен\n"
   ]
  },
  {
   "cell_type": "code",
   "execution_count": null,
   "metadata": {},
   "outputs": [],
   "source": []
  }
 ],
 "metadata": {
  "kernelspec": {
   "display_name": "Python 3",
   "language": "python",
   "name": "python3"
  },
  "language_info": {
   "codemirror_mode": {
    "name": "ipython",
    "version": 3
   },
   "file_extension": ".py",
   "mimetype": "text/x-python",
   "name": "python",
   "nbconvert_exporter": "python",
   "pygments_lexer": "ipython3",
   "version": "3.7.6"
  }
 },
 "nbformat": 4,
 "nbformat_minor": 2
}
