{
 "cells": [
  {
   "cell_type": "markdown",
   "metadata": {},
   "source": [
    "**Задание 1**. Дан список с визитами по городам и странам. \n",
    "Напишите код, который возвращает отфильтрованный список geo_logs, содержащий только визиты из России."
   ]
  },
  {
   "cell_type": "code",
   "execution_count": 14,
   "metadata": {},
   "outputs": [
    {
     "name": "stdout",
     "output_type": "stream",
     "text": [
      "[{'visit1': ['Москва', 'Россия']}, {'visit3': ['Владимир', 'Россия']}, {'visit7': ['Тула', 'Россия']}, {'visit8': ['Тула', 'Россия']}, {'visit9': ['Курск', 'Россия']}, {'visit10': ['Архангельск', 'Россия']}]\n"
     ]
    }
   ],
   "source": [
    "geo_logs = [\n",
    "    {'visit1': ['Москва', 'Россия']},\n",
    "    {'visit2': ['Дели', 'Индия']},\n",
    "    {'visit3': ['Владимир', 'Россия']},\n",
    "    {'visit4': ['Лиссабон', 'Португалия']},\n",
    "    {'visit5': ['Париж', 'Франция']},\n",
    "    {'visit6': ['Лиссабон', 'Португалия']},\n",
    "    {'visit7': ['Тула', 'Россия']},\n",
    "    {'visit8': ['Тула', 'Россия']},\n",
    "    {'visit9': ['Курск', 'Россия']},\n",
    "    {'visit10': ['Архангельск', 'Россия']}\n",
    "]\n",
    "new_geo_logs=[]\n",
    "\n",
    "for line in geo_logs: # Перебираем данные\n",
    "    if list(line.values())[0][1] == 'Россия': #Если элемент равен Россия\n",
    "        new_geo_logs.append(line) # Сохраняем в новый список\n",
    "\n",
    "print(new_geo_logs)"
   ]
  },
  {
   "cell_type": "markdown",
   "metadata": {},
   "source": [
    "**Задание 2**. Выведите на экран все уникальные гео-ID из значений словаря ids. Т. е. список вида [213, 15, 54, 119, 98, 35]"
   ]
  },
  {
   "cell_type": "code",
   "execution_count": 33,
   "metadata": {},
   "outputs": [
    {
     "name": "stdout",
     "output_type": "stream",
     "text": [
      "{98, 35, 213, 54, 119, 15}\n"
     ]
    }
   ],
   "source": [
    "ids = {'user1': [213, 213, 213, 15, 213], \n",
    "       'user2': [54, 54, 119, 119, 119], \n",
    "       'user3': [213, 98, 98, 35]}\n",
    "unique=set()\n",
    "for nums in ids.values(): # Перебираем данные\n",
    "    unique=unique.union(set(nums)) # Объединяем два множества\n",
    "print(unique)"
   ]
  },
  {
   "cell_type": "markdown",
   "metadata": {},
   "source": [
    "**Задание 3**. Дан список поисковых запросов. Получить распределение количества слов в них. \n",
    "Т. е. поисковых запросов из одного - слова 5%, из двух - 7%, из трех - 3% и т.д."
   ]
  },
  {
   "cell_type": "code",
   "execution_count": 80,
   "metadata": {},
   "outputs": [
    {
     "name": "stdout",
     "output_type": "stream",
     "text": [
      "Поисковые запросы из кол-ва слов:\n",
      "из 1: 11%\n",
      "из 2: 33%\n",
      "из 3: 44%\n",
      "из 10: 11%\n"
     ]
    }
   ],
   "source": [
    "queries = [\n",
    "    'смотреть сериалы онлайн',\n",
    "    'новости спорта',\n",
    "    'афиша кино',\n",
    "    'курс доллара',\n",
    "    'сериалы этим летом',\n",
    "    'курс по питону',\n",
    "    'сериалы про спорт',\n",
    "    'тест',\n",
    "    'Дан список поисковых запросов. Получить распределение количества слов в них.',\n",
    "]\n",
    "nums=[]\n",
    "\n",
    "for line in queries:\n",
    "    spl=len(line.split(' ')) # Получаем длину каждой фразы\n",
    "    nums.append(spl) # и записываем ее в список\n",
    "\n",
    "print('Поисковые запросы из кол-ва слов:')\n",
    "for num in sorted(set(nums)): # Перебираем, считаем и выводим итоговую информацию\n",
    "    percent=round(nums.count(num)/len(nums)*100) # Считаем проценты\n",
    "    print('из ',num,': ', percent, '%', sep='')"
   ]
  },
  {
   "cell_type": "markdown",
   "metadata": {},
   "source": [
    "**Задание 4**. Дана статистика рекламных каналов по объемам продаж. Напишите скрипт, который возвращает название канала с максимальным объемом.\n",
    "Т. е. в данном примере скрипт должен возвращать 'yandex'."
   ]
  },
  {
   "cell_type": "code",
   "execution_count": 66,
   "metadata": {},
   "outputs": [
    {
     "name": "stdout",
     "output_type": "stream",
     "text": [
      "yandex\n"
     ]
    },
    {
     "data": {
      "text/plain": [
       "'yandex'"
      ]
     },
     "execution_count": 66,
     "metadata": {},
     "output_type": "execute_result"
    }
   ],
   "source": [
    "stats = {'facebook': 55, 'yandex': 120, 'vk': 115, 'google': 99, 'email': 42, 'ok': 98}\n",
    "max_key='' # Устанавливаем название и значение максимального элемента\n",
    "max_val=0\n",
    "for elm in stats.items(): # Перебираем словарь\n",
    "    if(max_val<elm[1]): # Если текущее значение элемента больше максимального, то\n",
    "        max_key=elm[0] # Считаем, что теперь оно максимальное\n",
    "        max_val=elm[1]\n",
    "print(max_key)\n",
    "\n",
    "max(stats, key=stats.get) # Да, так действительно быстрее находить ключ максимального значения"
   ]
  },
  {
   "cell_type": "markdown",
   "metadata": {},
   "source": [
    "**Задание 5**. Напишите код для преобразования произвольного списка вида ['2018-01-01', 'yandex', 'cpc', 100] (он может быть любой длины) в словарь {'2018-01-01': {'yandex': {'cpc': 100}}}"
   ]
  },
  {
   "cell_type": "code",
   "execution_count": 149,
   "metadata": {},
   "outputs": [
    {
     "name": "stdout",
     "output_type": "stream",
     "text": [
      "{'2018-01-01': {'yandex': {'cpc': {100: 'test'}}}}\n"
     ]
    }
   ],
   "source": [
    "list1=['2018-01-01', 'yandex', 'cpc', 100, 'test']\n",
    "list1.reverse() # Разворачиваем список\n",
    "prev_elem='' # Создаем новые пустые элементы для текущего и предыдущего элемента\n",
    "this_elem=''\n",
    "for elm in list1: # Перебираем список\n",
    "    if(this_elem!=''): # При каждой последующей итерации, предыдущий элемент становится значением, а новый ключом\n",
    "        prev_elem=this_elem\n",
    "        this_elem={elm:prev_elem}\n",
    "    else: # Если первый элемент, то сохраняем его как значение\n",
    "        this_elem=elm\n",
    "print(this_elem)"
   ]
  },
  {
   "cell_type": "code",
   "execution_count": null,
   "metadata": {},
   "outputs": [],
   "source": []
  }
 ],
 "metadata": {
  "kernelspec": {
   "display_name": "Python 3",
   "language": "python",
   "name": "python3"
  },
  "language_info": {
   "codemirror_mode": {
    "name": "ipython",
    "version": 3
   },
   "file_extension": ".py",
   "mimetype": "text/x-python",
   "name": "python",
   "nbconvert_exporter": "python",
   "pygments_lexer": "ipython3",
   "version": "3.7.6"
  }
 },
 "nbformat": 4,
 "nbformat_minor": 2
}
