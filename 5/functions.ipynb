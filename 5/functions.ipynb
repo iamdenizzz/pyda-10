{
 "cells": [
  {
   "cell_type": "markdown",
   "metadata": {},
   "source": [
    "Вы работаете секретарем и вам постоянно приходят различные документы. Вы должны быть очень внимательны, чтобы не потерять ни один документ. Каталог документов хранится в следующем виде:"
   ]
  },
  {
   "cell_type": "code",
   "execution_count": 3,
   "metadata": {},
   "outputs": [],
   "source": [
    "documents = [\n",
    "    {'type': 'passport', 'number': '2207 876234', 'name': 'Василий Гупкин'},\n",
    "    {'type': 'invoice', 'number': '11-2', 'name': 'Геннадий Покемонов'},\n",
    "    {'type': 'insurance', 'number': '10006', 'name': 'Аристарх Павлов'}\n",
    "]"
   ]
  },
  {
   "cell_type": "markdown",
   "metadata": {},
   "source": [
    "Перечень полок, на которых находятся документы хранится в следующем виде:"
   ]
  },
  {
   "cell_type": "code",
   "execution_count": 4,
   "metadata": {},
   "outputs": [],
   "source": [
    "directories = {\n",
    "    '1': ['2207 876234', '11-2'],\n",
    "    '2': ['10006'],\n",
    "    '3': []\n",
    "}"
   ]
  },
  {
   "cell_type": "markdown",
   "metadata": {},
   "source": [
    "Необходимо реализовать пользовательские команды (внимание! это не название функций, которые должны быть выразительными, а команды, которые вводит пользователь, чтобы получить необходимый результат):\n",
    "  \n",
    "- p – people – команда, которая спросит номер документа и выведет имя человека, которому он принадлежит;  \n",
    "- s – shelf – команда, которая спросит номер документа и выведет номер полки, на которой он находится  \n",
    "*Правильно обработайте ситуации, когда пользователь будет вводить несуществующий документ*.\n",
    "- l – list – команда, которая выведет список всех документов в формате   \n",
    "**passport \"2207 876234\" \"Василий Гупкин\"**  \n",
    "- as – add shelf – команда, которая спросит номер новой полки и добавит ее в перечень. *Предусмотрите случай, когда пользователь добавляет полку, которая уже существует*.\n",
    "- d – delete – команда, которая спросит номер документа и удалит его из каталога и из перечня полок. *Предусмотрите сценарий, когда пользователь вводит несуществующий документ*;  \n",
    "- m – move – команда, которая спросит номер документа и целевую полку и переместит его с текущей полки на целевую. *Корректно обработайте кейсы, когда пользователь пытается переместить несуществующий документ или переместить документ на несуществующую полку*;  \n",
    "- a – add – команда, которая добавит новый документ в каталог и в перечень полок, спросив его номер, тип, имя владельца и номер полки, на котором он будет храниться. *Корректно обработайте ситуацию, когда пользователь будет пытаться добавить документ на несуществующую полку*."
   ]
  },
  {
   "cell_type": "code",
   "execution_count": 37,
   "metadata": {},
   "outputs": [
    {
     "name": "stdout",
     "output_type": "stream",
     "text": [
      "Для выхода нажмите q\n",
      "Введите команду:l\n",
      "passport \"2207 876234\" \"Василий Гупкин\"\n",
      "invoice \"11-2\" \"Геннадий Покемонов\"\n",
      "insurance \"10006\" \"Аристарх Павлов\"\n",
      "\n",
      "Введите команду:q\n"
     ]
    }
   ],
   "source": [
    "documents = [ # Перенес сюда, чтобы не забывать активировать\n",
    "    {'type': 'passport', 'number': '2207 876234', 'name': 'Василий Гупкин'},\n",
    "    {'type': 'invoice', 'number': '11-2', 'name': 'Геннадий Покемонов'},\n",
    "    {'type': 'insurance', 'number': '10006', 'name': 'Аристарх Павлов'}\n",
    "]\n",
    "\n",
    "directories = {\n",
    "    '1': ['2207 876234', '11-2'],\n",
    "    '2': ['10006'],\n",
    "    '3': []\n",
    "}\n",
    "\n",
    "def people():\n",
    "    result='Ничего не найдено'\n",
    "    document = input('Введите номер документа:')\n",
    "    for elm in documents: # Перебираем все документы и ищем нужный номер\n",
    "        if elm['number']==document:\n",
    "             result='ФИО: '+elm['name']\n",
    "    return result\n",
    "\n",
    "def shelf():\n",
    "    result='Ничего не найдено'\n",
    "    document = input('Введите номер документа:')\n",
    "    for key, value in directories.items(): # Перебираем все полки и ищем ту, на которой документ\n",
    "        if document in value:\n",
    "            result='Номер полки: '+key\n",
    "    return result\n",
    "\n",
    "def flist():\n",
    "    result=''\n",
    "    for elm in documents: # Просто выводим все документы в нужном формате\n",
    "        result+=elm['type']+' \"'+elm['number']+'\" \"'+elm['name']+'\"'+\"\\n\"\n",
    "    return result\n",
    "\n",
    "def add_shelf():\n",
    "    result='Такая полка уже существует'\n",
    "    shelf = input('Введите номер новой полки:')\n",
    "    if shelf not in directories: # Если такой полки не существует, то добавляем ее\n",
    "        directories[shelf]=[]\n",
    "        result='Новая полка добавлена'\n",
    "    return result\n",
    "\n",
    "def delete():\n",
    "    result='Документ не найден'\n",
    "    document = input('Введите номер документа:')\n",
    "    for key, value in directories.items(): # Перебираем все полки и удаляем с нее документ\n",
    "        if document in value:\n",
    "            value.remove(document)\n",
    "    for i,elm in enumerate(documents): # Перебираем все документы и удаляем документ с определенным номером\n",
    "        if document==elm['number']:\n",
    "            del(documents[i])\n",
    "            result='Документ удален'\n",
    "    return result\n",
    "\n",
    "def move():\n",
    "    result=''\n",
    "    error=0\n",
    "    flag=0\n",
    "    document = input('Введите номер документа:')\n",
    "    shelf = input('Введите номер полки:')\n",
    "    if shelf not in directories: # Проверка на существование полки\n",
    "        error=1\n",
    "        result='Такой полки не существует'\n",
    "    for elm in documents: # Проверка на существование документа\n",
    "        if elm['number']==document:\n",
    "            flag=1 # Ставим флаг, если документ найден\n",
    "    if(flag==0): # Если документ не нашли, то выводим сообщение об ошибке\n",
    "        error=1\n",
    "        result='Такого документа не существует'\n",
    "    if error!=1: # Если ошибки нет, то удаляем его с полки\n",
    "        for key, value in directories.items():\n",
    "            if document in value:\n",
    "                value.remove(document)\n",
    "        for key, value in directories.items(): # И добавляем на другую полку\n",
    "            if key==shelf:\n",
    "                value.append(document)\n",
    "        result='Документ перемещен'\n",
    "    return result\n",
    "\n",
    "def add():\n",
    "    result=''\n",
    "    doc={}\n",
    "    doc['number'] = input('Введите номер документа:')\n",
    "    doc['type'] = input('Введите тип документа:')\n",
    "    doc['name'] = input('Введите имя владельца:')\n",
    "    shelf = input('Введите номер полки:')\n",
    "    if shelf not in directories: # Проверка на существование полки\n",
    "        result='Такой полки не существует'\n",
    "    else:\n",
    "        documents.append(doc) #Добавляем документ\n",
    "        for key, value in directories.items(): # и добавляем его на полку\n",
    "            if key==shelf:\n",
    "                value.append(doc['number'])\n",
    "    return result\n",
    "    \n",
    "\n",
    "functions = {'p':people, 's':shelf, 'l':flist, 'as':add_shelf, 'd':delete, 'm':move, 'a':add}\n",
    "\n",
    "\n",
    "print('Для выхода нажмите q')\n",
    "while(True):\n",
    "    command = input('Введите команду:')\n",
    "    if command in functions:\n",
    "        rs=functions[command]()\n",
    "        print(rs)\n",
    "    elif command=='q': break\n"
   ]
  },
  {
   "cell_type": "code",
   "execution_count": null,
   "metadata": {},
   "outputs": [],
   "source": []
  }
 ],
 "metadata": {
  "kernelspec": {
   "display_name": "Python 3",
   "language": "python",
   "name": "python3"
  },
  "language_info": {
   "codemirror_mode": {
    "name": "ipython",
    "version": 3
   },
   "file_extension": ".py",
   "mimetype": "text/x-python",
   "name": "python",
   "nbconvert_exporter": "python",
   "pygments_lexer": "ipython3",
   "version": "3.7.6"
  }
 },
 "nbformat": 4,
 "nbformat_minor": 2
}
