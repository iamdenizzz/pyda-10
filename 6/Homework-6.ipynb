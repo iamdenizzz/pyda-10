{
 "cells": [
  {
   "cell_type": "markdown",
   "metadata": {},
   "source": [
    "# Домашнее задание\n",
    "1. Переведите содержимое файла purchase_log.txt в словарь purchases вида:\n",
    "```python\n",
    "{'1840e0b9d4': 'Продукты', ...}\n",
    "```\n",
    "\n"
   ]
  },
  {
   "cell_type": "code",
   "execution_count": 35,
   "metadata": {},
   "outputs": [
    {
     "name": "stdout",
     "output_type": "stream",
     "text": [
      "0 category\n",
      "1 Продукты\n",
      "2 Электроника\n",
      "3 Электроника\n",
      "4 Бытовая техника\n",
      "5 Электроника\n",
      "6 Электроника\n"
     ]
    }
   ],
   "source": [
    "import json\n",
    "purchases={}\n",
    "lines=open('purchase_log.txt', 'r', encoding='UTF-8')\n",
    "for line in lines:\n",
    "    res=(json.loads(line)) # Переводим даныне из json в словарь\n",
    "    purchases[res['user_id']]=res['category']; # и пересохраняем из в словарь purchases в другом формате\n",
    "\n",
    "for i, line in enumerate(purchases.values()): # Тестовый вывод, что все сохранено\n",
    "    print(i, line)\n",
    "    if(i>5): break"
   ]
  },
  {
   "cell_type": "markdown",
   "metadata": {},
   "source": [
    "2. Для каждого user_id в файле visit_log.csv определите третий столбец с категорией покупки (если покупка была, сам файл visit_log.csv изменять не надо). Запишите в файл funnel.csv визиты из файла visit_log.csv, в которых были покупки с указанием категории.\n",
    "\n",
    "Учтите условия на данные:\n",
    "- содержимое purchase_log.txt помещается в оперативную память компьютера\n",
    "- содержимое visit_log.csv - нет; используйте только построчную обработку этого файла"
   ]
  },
  {
   "cell_type": "code",
   "execution_count": 36,
   "metadata": {},
   "outputs": [
    {
     "name": "stdout",
     "output_type": "stream",
     "text": [
      "Операция выполнена\n"
     ]
    }
   ],
   "source": [
    "flag=0\n",
    "with open('visit_log.csv', 'r', encoding='utf-8') as f:\n",
    "    with open('funnel.csv', 'w', encoding='utf-8') as f2write:\n",
    "        f.readline() # Пропускаем первую строку где заголовок\n",
    "        f2write.write(\"user_id,source,category\\n\") # Записываем новый\n",
    "        flag=1 # Чтобы видеть, что файлы были открыты для чтения и записи\n",
    "        for line in f: # Перебираем все стрки в файле\n",
    "            data=line.strip().split(',') # Делаем разбиение по запятой\n",
    "            if(data[0] in purchases): # Если id-покупки был найден\n",
    "                data.append(purchases[data[0]]) # Получаем его значение по ключу\n",
    "                f2write.write(data[0]+','+data[1]+','+data[2]+\"\\n\") # Записываем в файл строку с 3-им столбцом\n",
    "\n",
    "if(flag==1): print('Операция выполнена')"
   ]
  },
  {
   "cell_type": "code",
   "execution_count": null,
   "metadata": {},
   "outputs": [],
   "source": []
  }
 ],
 "metadata": {
  "kernelspec": {
   "display_name": "Python 3",
   "language": "python",
   "name": "python3"
  },
  "language_info": {
   "codemirror_mode": {
    "name": "ipython",
    "version": 3
   },
   "file_extension": ".py",
   "mimetype": "text/x-python",
   "name": "python",
   "nbconvert_exporter": "python",
   "pygments_lexer": "ipython3",
   "version": "3.7.6"
  }
 },
 "nbformat": 4,
 "nbformat_minor": 4
}
