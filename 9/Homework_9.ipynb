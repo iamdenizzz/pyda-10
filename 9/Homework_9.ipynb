{
 "cells": [
  {
   "cell_type": "code",
   "execution_count": 1,
   "metadata": {},
   "outputs": [],
   "source": [
    "import re #Импортируем модуль для работы с регулярными выражениями"
   ]
  },
  {
   "cell_type": "markdown",
   "metadata": {},
   "source": [
    "### Задание 1\n",
    "\n",
    "Напишите функцию, которая принимает на вход строку и проверяет является ли она валидным транспортным номером (2 буквы, 3 цифры, 1 буква, 2-3 цифры). Обратите внимание, что не все буквы кириллического алфавита используются в транспортных номерах.\n",
    "\n",
    "Если номер валиден, то функция должна возвращать отдельно номер и регион.\n",
    "\n",
    "Примеры работы программы:\n",
    "\n",
    "    car_id = 'АВ222С96'\n",
    "\n",
    "Результат: Номер АВ222С валиден. Регион: 96\n",
    "\n",
    "    car_id = 'АБ22ВВ193'\n",
    "\n",
    "Результат: Номер не валиден"
   ]
  },
  {
   "cell_type": "code",
   "execution_count": 2,
   "metadata": {},
   "outputs": [
    {
     "name": "stdout",
     "output_type": "stream",
     "text": [
      "Номер АВ222С177 валиден. Регион: 177\n"
     ]
    }
   ],
   "source": [
    "def valid_number(num):\n",
    "    pattern = r'\\w{2}\\d{3}\\w{1}\\d{2,3}'\n",
    "    result = re.match(pattern, num)\n",
    "    print('Номер '+num+' валиден. Регион: '+num[6:9] if result else 'Номер не валиден')\n",
    "    \n",
    "car_id = 'АВ222С177'\n",
    "#car_id = 'АБ22ВВ193'\n",
    "valid_number(car_id)"
   ]
  },
  {
   "cell_type": "markdown",
   "metadata": {},
   "source": [
    "### Задание 2\n",
    "\n",
    "Напишите функцию, которая будет удалять все последовательные повторы слов из заданной строки при помощи регулярных выражений.\n",
    "\n",
    "Пример работы программы:\n",
    "\n",
    "some_string = 'Напишите функцию функцию, которая будет будет будет будет удалять все все все все последовательные повторы слов из из из из заданной строки строки при помощи регулярных выражений'\n",
    "\n",
    "Результат: Напишите функцию, которая будет удалять все последовательные повторы слов из заданной строки при помощи регулярных выражений."
   ]
  },
  {
   "cell_type": "code",
   "execution_count": 4,
   "metadata": {},
   "outputs": [
    {
     "name": "stdout",
     "output_type": "stream",
     "text": [
      "Напишите функцию которая будет удалять все последовательные повторы слов из заданной строки при помощи регулярных выражений \n"
     ]
    }
   ],
   "source": [
    "def del_double(string):\n",
    "    new_string = ''\n",
    "    old_word = ''\n",
    "    words = re.findall(r'\\w+', string)\n",
    "    for word in words:\n",
    "        if(old_word!=word):\n",
    "            new_string+= word+' '\n",
    "        old_word = word\n",
    "    print(new_string)\n",
    "    \n",
    "some_string = 'Напишите функцию функцию, которая будет будет будет будет удалять все все все все последовательные повторы слов из из из из заданной строки строки при помощи регулярных выражений'\n",
    "del_double(some_string)"
   ]
  },
  {
   "cell_type": "markdown",
   "metadata": {},
   "source": [
    "### Задание 3\n",
    "\n",
    "Напишите функцию, которая будет возвращать акроним по переданной в нее строке со словами.\n",
    "\n",
    "Примеры работы программы:\n",
    "\n",
    "    some_words = 'Информационные технологии'\n",
    "\n",
    "Результат: ИТ\n",
    "\n",
    "    some_words = 'Near Field Communication'\n",
    "\n",
    "Результат: NFC"
   ]
  },
  {
   "cell_type": "code",
   "execution_count": 5,
   "metadata": {},
   "outputs": [
    {
     "name": "stdout",
     "output_type": "stream",
     "text": [
      "ИТ\n"
     ]
    }
   ],
   "source": [
    "def get_akronim(string):\n",
    "    new_string = ''\n",
    "    words = re.findall(r'\\w+', string)\n",
    "    for word in words:\n",
    "        new_string+=word[0]\n",
    "    return new_string.upper()\n",
    "    \n",
    "some_words = 'Информационные технологии'\n",
    "#some_words = 'Near Field Communication'    \n",
    "print(get_akronim(some_words))"
   ]
  },
  {
   "cell_type": "markdown",
   "metadata": {},
   "source": [
    "### Задание 4\n",
    "\n",
    "Напишите функцию, которая будет принимать на вход список email-адресов и выводить их распределение по доменным зонам.\n",
    "\n",
    "Пример работы программы:\n",
    "\n",
    "emails = ['test@gmail.com', 'xyz@test.in', 'test@ya.ru', 'xyz@mail.ru', 'xyz@ya.ru', 'xyz@gmail.com']\n",
    "\n",
    "Результат:\n",
    "\n",
    "gmail.com: 2\n",
    "test.in: 1 \n",
    "ya.ru: 2 \n",
    "mail.ru: 1"
   ]
  },
  {
   "cell_type": "code",
   "execution_count": 65,
   "metadata": {},
   "outputs": [
    {
     "name": "stdout",
     "output_type": "stream",
     "text": [
      "gmail.com: 2\n",
      "test.in: 1\n",
      "ya.ru: 2\n",
      "mail.ru: 1\n"
     ]
    }
   ],
   "source": [
    "def domains(emails):\n",
    "    results = {}\n",
    "    for email in emails:\n",
    "        dom = re.findall(r'@\\w+\\.\\w+', email)\n",
    "        key = dom[0][1:]\n",
    "        if key not in results:\n",
    "            results[key] = 1\n",
    "        else:\n",
    "            results[key]+= 1\n",
    "    for key,val in results.items():\n",
    "        print(f\"{key}: {val}\")\n",
    "\n",
    "emails = ['test@gmail.com', 'xyz@test.in', 'test@ya.ru', 'xyz@mail.ru', 'xyz@ya.ru', 'xyz@gmail.com']\n",
    "domains(emails)"
   ]
  },
  {
   "cell_type": "markdown",
   "metadata": {},
   "source": [
    "### Задание 5 (необязательное)\n",
    "\n",
    "Напишите функцию, которая будет подсчитывать сколько слов начинается на гласные, а сколько на согласные буквы в тексте (текст может быть написан как с использованием букв кириллицы, так и латиницы).\n",
    "\n",
    "Пример работы программы:\n",
    "\n",
    "some_text = 'Эталонной реализацией Python является интерпретатор CPython, поддерживающий большинство активно используемых платформ. Он распространяется под свободной лицензией Python Software Foundation License, позволяющей использовать его без ограничений в любых приложениях, включая проприетарные.'\n",
    "\n",
    "Результат:\n",
    "\n",
    "Слов на гласные буквы: 9\n",
    "Слов на согласные буквы: 21"
   ]
  },
  {
   "cell_type": "code",
   "execution_count": null,
   "metadata": {},
   "outputs": [],
   "source": []
  },
  {
   "cell_type": "markdown",
   "metadata": {},
   "source": [
    "### Задание 6 (необязательное)\n",
    "\n",
    "Напишите функцию, которая будет проверять номер сотового телефона на валидность (только для российского формата), если он валиден, то переводить его в формат:\n",
    "+7-xxx-xxx-xx-xx\n",
    "Постарайтесь предусмотреть как можно больше адекватных форматов изначального ввода номера. Примеры работы программы:\n",
    "\n",
    "    phone = '+7 955 555-55-55'\n",
    "\n",
    "Результат: +7-950-555-55-55\n",
    "\n",
    "    phone = '8(955)555-55-55'\n",
    "\n",
    "Результат: +7-950-555-55-55\n",
    "\n",
    "    phone = '+7 955 555 55 55'\n",
    "\n",
    "Результат: +7-950-555-55-55\n",
    "\n",
    "    phone = '7(955) 555-55-55'\n",
    "\n",
    "Результат: +7-950-555-55-55\n",
    "\n",
    "    phone = '423-555-55-5555'\n",
    "\n",
    "Результат: Номер не валиден\n",
    "\n",
    "    phone = '123-456-789'\n",
    "\n",
    "Результат: Номер не валиден"
   ]
  },
  {
   "cell_type": "code",
   "execution_count": null,
   "metadata": {},
   "outputs": [],
   "source": []
  }
 ],
 "metadata": {
  "kernelspec": {
   "display_name": "Python 3",
   "language": "python",
   "name": "python3"
  },
  "language_info": {
   "codemirror_mode": {
    "name": "ipython",
    "version": 3
   },
   "file_extension": ".py",
   "mimetype": "text/x-python",
   "name": "python",
   "nbconvert_exporter": "python",
   "pygments_lexer": "ipython3",
   "version": "3.7.6"
  }
 },
 "nbformat": 4,
 "nbformat_minor": 4
}
